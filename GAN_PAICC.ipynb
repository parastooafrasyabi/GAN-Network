{
 "cells": [
  {
   "cell_type": "markdown",
   "metadata": {},
   "source": [
    "# Import libraries"
   ]
  },
  {
   "cell_type": "code",
   "execution_count": 1,
   "metadata": {},
   "outputs": [
    {
     "name": "stderr",
     "output_type": "stream",
     "text": [
      "Using TensorFlow backend.\n"
     ]
    }
   ],
   "source": [
    "import numpy as np                 # Scientific Computation\n",
    "import pandas as pd                # Loading and Manipulating Datasets\n",
    "import matplotlib.pyplot as plt    # Plotting Graphs\n",
    "import math\n",
    "from keras.models import Sequential, Model\n",
    "from keras.layers import Input, Dense, LSTM, Activation\n",
    "from keras.layers.advanced_activations import LeakyReLU\n",
    "from keras.optimizers import Adam\n",
    "from keras.models import Model\n",
    "from keras.layers import concatenate\n",
    "from keras.layers import Reshape\n",
    "from keras.layers.core import RepeatVector\n",
    "from sklearn.preprocessing import StandardScaler"
   ]
  },
  {
   "cell_type": "markdown",
   "metadata": {},
   "source": [
    "# Import Train Data"
   ]
  },
  {
   "cell_type": "code",
   "execution_count": 2,
   "metadata": {},
   "outputs": [
    {
     "data": {
      "text/plain": [
       "(3300, 5, 6)"
      ]
     },
     "execution_count": 2,
     "metadata": {},
     "output_type": "execute_result"
    }
   ],
   "source": [
    "dataset = pd.read_csv('PAICC_train.csv')\n",
    "dataset_train = dataset.iloc[:,1:7].values\n",
    "\n",
    "sc = StandardScaler()\n",
    "data_train=[]\n",
    "for i in range(5,3304+1):\n",
    "    data_train.append(dataset_train[i-5:i,:])\n",
    "# data_train = np.array(data_train)        \n",
    "\n",
    "data_train_scaled = []\n",
    "for w in data_train:\n",
    "    norm_win = sc.fit_transform(w)\n",
    "    data_train_scaled.append(norm_win)\n",
    "data_train_scaled = np.array(data_train_scaled)\n",
    "data_train_scaled.shape"
   ]
  },
  {
   "cell_type": "markdown",
   "metadata": {},
   "source": [
    "## Train data"
   ]
  },
  {
   "cell_type": "code",
   "execution_count": 3,
   "metadata": {},
   "outputs": [
    {
     "name": "stdout",
     "output_type": "stream",
     "text": [
      "(3299, 5, 6)\n",
      "(3299, 1, 6)\n"
     ]
    }
   ],
   "source": [
    "x_train = data_train_scaled[0:3299,:,:]\n",
    "y_train = data_train_scaled[1:3300,4,:]\n",
    "y_train=np.expand_dims(y_train, axis=1)\n",
    "print(x_train.shape)\n",
    "print(y_train.shape)"
   ]
  },
  {
   "cell_type": "markdown",
   "metadata": {},
   "source": [
    "## Test data"
   ]
  },
  {
   "cell_type": "markdown",
   "metadata": {},
   "source": [
    "# Preprocessing"
   ]
  },
  {
   "cell_type": "code",
   "execution_count": 4,
   "metadata": {},
   "outputs": [],
   "source": [
    "# norm_data = []\n",
    "# for w in X_train:\n",
    "#     norm_win = sc.fit_transform(w)\n",
    "#     norm_data.append(norm_win)\n",
    "# norm_data = np.array(norm_data)\n",
    "# x_train=norm_data[:,0:5,:]\n",
    "# y_train=norm_data[:,-1,:]\n",
    "# y_train=np.expand_dims(y_train, axis=1)"
   ]
  },
  {
   "cell_type": "markdown",
   "metadata": {},
   "source": [
    "# Model Parameters"
   ]
  },
  {
   "cell_type": "code",
   "execution_count": 5,
   "metadata": {},
   "outputs": [],
   "source": [
    "feature_size=6\n",
    "feature_size=6\n",
    "step_time=5\n",
    "gan_input_dim=(step_time,feature_size)"
   ]
  },
  {
   "cell_type": "markdown",
   "metadata": {},
   "source": [
    "# Create GAN"
   ]
  },
  {
   "cell_type": "markdown",
   "metadata": {},
   "source": [
    "### Optimizer"
   ]
  },
  {
   "cell_type": "code",
   "execution_count": 6,
   "metadata": {},
   "outputs": [],
   "source": [
    "def get_optimizer():\n",
    "    return Adam(lr = 0.01, beta_1 = 0.5) "
   ]
  },
  {
   "cell_type": "markdown",
   "metadata": {},
   "source": [
    "### Discriminator"
   ]
  },
  {
   "cell_type": "code",
   "execution_count": 7,
   "metadata": {},
   "outputs": [],
   "source": [
    "def get_discriminator(optimizer,step_time,feature_size):\n",
    "    discriminator = Sequential()\n",
    "    discriminator.add(Dense(units = 72,input_dim=(step_time+1)*feature_size))\n",
    "    discriminator.add(LeakyReLU(alpha = 0.2))\n",
    "    discriminator.add(Dense(units = 100))\n",
    "    discriminator.add(LeakyReLU(alpha = 0.2))\n",
    "    discriminator.add(Dense(units = 10))\n",
    "    discriminator.add(LeakyReLU(alpha = 0.2))\n",
    "    discriminator.add(Dense(units = 1,activation = 'sigmoid'))\n",
    "    discriminator.compile(loss ='binary_crossentropy', optimizer = optimizer)\n",
    "    return discriminator"
   ]
  },
  {
   "cell_type": "markdown",
   "metadata": {},
   "source": [
    "### Generator"
   ]
  },
  {
   "cell_type": "code",
   "execution_count": 8,
   "metadata": {},
   "outputs": [],
   "source": [
    "def get_generator(optimizer,feature_size):\n",
    "    generator = Sequential()\n",
    "    generator.add(LSTM(units = 10, return_sequences = False, input_shape = (x_train.shape[1], feature_size)))\n",
    "    generator.add(Dense(units = feature_size))\n",
    "    generator.add(LeakyReLU(alpha = 0.2))\n",
    "    generator.add(RepeatVector(1))\n",
    "    generator.compile(loss ='mse', optimizer = optimizer)\n",
    "    return generator"
   ]
  },
  {
   "cell_type": "markdown",
   "metadata": {},
   "source": [
    "### GAN"
   ]
  },
  {
   "cell_type": "code",
   "execution_count": 9,
   "metadata": {},
   "outputs": [],
   "source": [
    "def get_gan_network(discriminator, gan_input_dim, generator, optimizer):\n",
    "    # We initially set trainable to False since we only want to train either the generator or discriminator at a time\n",
    "    discriminator.trainable = False\n",
    "    \n",
    "    gan_input = Input(shape=gan_input_dim)\n",
    "    x = generator(gan_input)\n",
    "    # Concatenate the output of the generator with real data\n",
    "    val=concatenate(inputs=[gan_input,x],axis=1)\n",
    "    R=Reshape((36,))(val)\n",
    "    gan_output = discriminator(R)\n",
    "    \n",
    "    gan = Model(inputs = gan_input, outputs = gan_output)\n",
    "    gan.compile(loss ='binary_crossentropy', optimizer = optimizer)\n",
    "    return gan"
   ]
  },
  {
   "cell_type": "markdown",
   "metadata": {},
   "source": [
    "# Train GAN"
   ]
  },
  {
   "cell_type": "code",
   "execution_count": 10,
   "metadata": {
    "scrolled": true
   },
   "outputs": [],
   "source": [
    "def train(epochs,step_time,feature_size,gan_input_dim,batch_size=30):\n",
    "    \n",
    "    batch_count = x_train.shape[0] // batch_size\n",
    "    \n",
    "    adam = get_optimizer()\n",
    "    generator = get_generator(adam,feature_size)\n",
    "    discriminator = get_discriminator(adam,step_time,feature_size)\n",
    "    gan = get_gan_network(discriminator, gan_input_dim, generator, adam)\n",
    "    \n",
    "    for e in range(1, epochs+1):\n",
    "        D_loss=[]\n",
    "        G_loss=[]\n",
    "        # Train the Network in Batchs\n",
    "        for i in range (0,batch_count):\n",
    "            X_tr_batch=x_train[i*batch_size:(i+1)*batch_size,:,:]\n",
    "            Y_tr_batch=y_train[i*batch_size:(i+1)*batch_size,:,:]\n",
    "            pred = generator.predict(X_tr_batch)\n",
    "\n",
    "            X_real = np.concatenate((X_tr_batch, Y_tr_batch),axis=1)\n",
    "            X_real = np.reshape(X_real,(-1,36,))\n",
    "            X_fake = np.concatenate((X_tr_batch, pred),axis=1)\n",
    "            X_fake = np.reshape(X_fake,(-1,36,))\n",
    "\n",
    "            fake = np.zeros((batch_size,1))\n",
    "            real = np.ones((batch_size,1))\n",
    "            \n",
    "            # Train discriminator\n",
    "            discriminator.trainable = True\n",
    "    \n",
    "            d_loss_real=discriminator.train_on_batch(X_real, real)\n",
    "\n",
    "            d_loss_fake=discriminator.train_on_batch(X_fake, fake)\n",
    "            d_loss=np.add(d_loss_real,d_loss_fake)\n",
    "            D_loss.append(d_loss)\n",
    "\n",
    "    \n",
    "            # Train generator\n",
    "            discriminator.trainable = False\n",
    "            y_gen = np.ones((batch_size,1))\n",
    "            g_loss=gan.train_on_batch(X_tr_batch, y_gen)\n",
    "            G_loss.append(g_loss)\n",
    "            # Print the Results\n",
    "            print (\"epoch : %d , batch : %d , D loss : %f , G loss : %f\" % (e,i, d_loss,g_loss))\n",
    "    return gan,generator,discriminator,D_loss,G_loss"
   ]
  },
  {
   "cell_type": "code",
   "execution_count": 11,
   "metadata": {},
   "outputs": [
    {
     "name": "stdout",
     "output_type": "stream",
     "text": [
      "WARNING:tensorflow:From C:\\Users\\Shahpar\\Anaconda3\\lib\\site-packages\\tensorflow\\python\\framework\\op_def_library.py:263: colocate_with (from tensorflow.python.framework.ops) is deprecated and will be removed in a future version.\n",
      "Instructions for updating:\n",
      "Colocations handled automatically by placer.\n",
      "WARNING:tensorflow:From C:\\Users\\Shahpar\\Anaconda3\\lib\\site-packages\\tensorflow\\python\\ops\\math_ops.py:3066: to_int32 (from tensorflow.python.ops.math_ops) is deprecated and will be removed in a future version.\n",
      "Instructions for updating:\n",
      "Use tf.cast instead.\n",
      "epoch : 1 , batch : 0 , D loss : 2.537817 , G loss : 0.454886\n",
      "epoch : 1 , batch : 1 , D loss : 1.687985 , G loss : 0.604857\n",
      "epoch : 1 , batch : 2 , D loss : 1.362172 , G loss : 0.654552\n",
      "epoch : 1 , batch : 3 , D loss : 1.295413 , G loss : 0.703019\n",
      "epoch : 1 , batch : 4 , D loss : 1.254460 , G loss : 0.705087\n",
      "epoch : 1 , batch : 5 , D loss : 1.155285 , G loss : 0.753001\n",
      "epoch : 1 , batch : 6 , D loss : 1.074201 , G loss : 0.775038\n",
      "epoch : 1 , batch : 7 , D loss : 1.222386 , G loss : 0.793085\n",
      "epoch : 1 , batch : 8 , D loss : 1.192769 , G loss : 0.840440\n",
      "epoch : 1 , batch : 9 , D loss : 1.046424 , G loss : 0.912389\n",
      "epoch : 1 , batch : 10 , D loss : 0.849299 , G loss : 1.047421\n",
      "epoch : 1 , batch : 11 , D loss : 1.197471 , G loss : 0.964237\n",
      "epoch : 1 , batch : 12 , D loss : 1.705507 , G loss : 1.321948\n",
      "epoch : 1 , batch : 13 , D loss : 1.139211 , G loss : 1.064897\n",
      "epoch : 1 , batch : 14 , D loss : 1.344318 , G loss : 1.083600\n",
      "epoch : 1 , batch : 15 , D loss : 0.960778 , G loss : 1.561695\n",
      "epoch : 1 , batch : 16 , D loss : 1.460890 , G loss : 1.334126\n",
      "epoch : 1 , batch : 17 , D loss : 1.121604 , G loss : 1.474428\n",
      "epoch : 1 , batch : 18 , D loss : 1.048442 , G loss : 1.492040\n",
      "epoch : 1 , batch : 19 , D loss : 0.988699 , G loss : 1.507365\n",
      "epoch : 1 , batch : 20 , D loss : 1.160958 , G loss : 1.288099\n",
      "epoch : 1 , batch : 21 , D loss : 0.829086 , G loss : 1.488979\n",
      "epoch : 1 , batch : 22 , D loss : 1.342747 , G loss : 1.046792\n",
      "epoch : 1 , batch : 23 , D loss : 0.899306 , G loss : 1.216371\n",
      "epoch : 1 , batch : 24 , D loss : 0.979860 , G loss : 1.247299\n",
      "epoch : 1 , batch : 25 , D loss : 0.872303 , G loss : 1.425995\n",
      "epoch : 1 , batch : 26 , D loss : 1.090137 , G loss : 1.043315\n",
      "epoch : 1 , batch : 27 , D loss : 0.828416 , G loss : 1.804336\n",
      "epoch : 1 , batch : 28 , D loss : 0.884915 , G loss : 2.826038\n",
      "epoch : 1 , batch : 29 , D loss : 1.650224 , G loss : 1.594028\n",
      "epoch : 1 , batch : 30 , D loss : 0.948536 , G loss : 1.489839\n",
      "epoch : 1 , batch : 31 , D loss : 1.108126 , G loss : 1.223573\n",
      "epoch : 1 , batch : 32 , D loss : 0.597386 , G loss : 1.598027\n",
      "epoch : 1 , batch : 33 , D loss : 0.736035 , G loss : 1.780128\n",
      "epoch : 1 , batch : 34 , D loss : 0.895096 , G loss : 1.645829\n",
      "epoch : 1 , batch : 35 , D loss : 0.924626 , G loss : 1.732134\n",
      "epoch : 1 , batch : 36 , D loss : 0.867720 , G loss : 2.008294\n",
      "epoch : 1 , batch : 37 , D loss : 1.165996 , G loss : 1.583263\n",
      "epoch : 1 , batch : 38 , D loss : 0.976502 , G loss : 1.367609\n",
      "epoch : 1 , batch : 39 , D loss : 0.924528 , G loss : 1.419418\n",
      "epoch : 1 , batch : 40 , D loss : 0.703161 , G loss : 1.634470\n",
      "epoch : 1 , batch : 41 , D loss : 0.824836 , G loss : 1.558537\n",
      "epoch : 1 , batch : 42 , D loss : 1.002697 , G loss : 1.545333\n",
      "epoch : 1 , batch : 43 , D loss : 0.926058 , G loss : 1.525146\n",
      "epoch : 1 , batch : 44 , D loss : 0.694016 , G loss : 1.727354\n",
      "epoch : 1 , batch : 45 , D loss : 0.597872 , G loss : 1.945157\n",
      "epoch : 1 , batch : 46 , D loss : 0.994527 , G loss : 1.650057\n",
      "epoch : 1 , batch : 47 , D loss : 1.089865 , G loss : 1.616240\n",
      "epoch : 1 , batch : 48 , D loss : 0.612285 , G loss : 1.669442\n",
      "epoch : 1 , batch : 49 , D loss : 1.278287 , G loss : 1.222830\n",
      "epoch : 1 , batch : 50 , D loss : 1.078196 , G loss : 0.981116\n",
      "epoch : 1 , batch : 51 , D loss : 1.829672 , G loss : 1.228757\n",
      "epoch : 1 , batch : 52 , D loss : 1.019307 , G loss : 1.657569\n",
      "epoch : 1 , batch : 53 , D loss : 1.295229 , G loss : 1.979991\n",
      "epoch : 1 , batch : 54 , D loss : 0.941319 , G loss : 3.592490\n",
      "epoch : 1 , batch : 55 , D loss : 1.517214 , G loss : 1.626068\n",
      "epoch : 1 , batch : 56 , D loss : 1.162220 , G loss : 1.237780\n",
      "epoch : 1 , batch : 57 , D loss : 0.736775 , G loss : 1.370846\n",
      "epoch : 1 , batch : 58 , D loss : 0.564393 , G loss : 1.760706\n",
      "epoch : 1 , batch : 59 , D loss : 0.711851 , G loss : 1.773407\n",
      "epoch : 1 , batch : 60 , D loss : 0.807075 , G loss : 1.572223\n",
      "epoch : 1 , batch : 61 , D loss : 0.646961 , G loss : 1.843479\n",
      "epoch : 1 , batch : 62 , D loss : 1.435992 , G loss : 1.101927\n",
      "epoch : 1 , batch : 63 , D loss : 0.670849 , G loss : 1.859353\n",
      "epoch : 1 , batch : 64 , D loss : 0.692619 , G loss : 1.874693\n",
      "epoch : 1 , batch : 65 , D loss : 1.129519 , G loss : 1.525808\n",
      "epoch : 1 , batch : 66 , D loss : 0.926804 , G loss : 1.766171\n",
      "epoch : 1 , batch : 67 , D loss : 0.801636 , G loss : 2.029026\n",
      "epoch : 1 , batch : 68 , D loss : 0.965750 , G loss : 1.672074\n",
      "epoch : 1 , batch : 69 , D loss : 1.042764 , G loss : 2.025477\n",
      "epoch : 1 , batch : 70 , D loss : 0.810957 , G loss : 2.315793\n",
      "epoch : 1 , batch : 71 , D loss : 0.853050 , G loss : 2.591420\n",
      "epoch : 1 , batch : 72 , D loss : 0.906886 , G loss : 1.768154\n",
      "epoch : 1 , batch : 73 , D loss : 0.313930 , G loss : 3.081287\n",
      "epoch : 1 , batch : 74 , D loss : 0.741275 , G loss : 1.845297\n",
      "epoch : 1 , batch : 75 , D loss : 1.099390 , G loss : 1.388375\n",
      "epoch : 1 , batch : 76 , D loss : 0.847338 , G loss : 2.031130\n",
      "epoch : 1 , batch : 77 , D loss : 1.066097 , G loss : 1.709473\n",
      "epoch : 1 , batch : 78 , D loss : 0.503265 , G loss : 2.774312\n",
      "epoch : 1 , batch : 79 , D loss : 0.920116 , G loss : 2.278592\n",
      "epoch : 1 , batch : 80 , D loss : 0.475329 , G loss : 2.520853\n",
      "epoch : 1 , batch : 81 , D loss : 0.985757 , G loss : 1.558506\n",
      "epoch : 1 , batch : 82 , D loss : 1.095063 , G loss : 1.891058\n",
      "epoch : 1 , batch : 83 , D loss : 0.698435 , G loss : 2.307756\n",
      "epoch : 1 , batch : 84 , D loss : 0.831449 , G loss : 2.442800\n",
      "epoch : 1 , batch : 85 , D loss : 0.953934 , G loss : 1.974618\n",
      "epoch : 1 , batch : 86 , D loss : 1.161377 , G loss : 1.337932\n",
      "epoch : 1 , batch : 87 , D loss : 1.174516 , G loss : 1.910081\n",
      "epoch : 1 , batch : 88 , D loss : 0.998380 , G loss : 1.308529\n",
      "epoch : 1 , batch : 89 , D loss : 1.069795 , G loss : 1.670859\n",
      "epoch : 1 , batch : 90 , D loss : 1.002465 , G loss : 2.047787\n",
      "epoch : 1 , batch : 91 , D loss : 0.428478 , G loss : 2.594669\n",
      "epoch : 1 , batch : 92 , D loss : 1.421142 , G loss : 1.414473\n",
      "epoch : 1 , batch : 93 , D loss : 1.042465 , G loss : 1.515766\n",
      "epoch : 1 , batch : 94 , D loss : 0.692437 , G loss : 2.226482\n",
      "epoch : 1 , batch : 95 , D loss : 1.362855 , G loss : 1.660834\n",
      "epoch : 1 , batch : 96 , D loss : 1.037597 , G loss : 1.375281\n",
      "epoch : 1 , batch : 97 , D loss : 0.684830 , G loss : 1.712377\n",
      "epoch : 1 , batch : 98 , D loss : 1.116764 , G loss : 1.485065\n",
      "epoch : 1 , batch : 99 , D loss : 1.267132 , G loss : 1.575615\n",
      "epoch : 1 , batch : 100 , D loss : 1.132550 , G loss : 1.330035\n",
      "epoch : 1 , batch : 101 , D loss : 1.043768 , G loss : 1.281487\n",
      "epoch : 1 , batch : 102 , D loss : 0.772682 , G loss : 1.351617\n",
      "epoch : 1 , batch : 103 , D loss : 1.304963 , G loss : 1.419314\n",
      "epoch : 1 , batch : 104 , D loss : 0.934065 , G loss : 1.378863\n",
      "epoch : 1 , batch : 105 , D loss : 0.950315 , G loss : 1.473721\n",
      "epoch : 1 , batch : 106 , D loss : 1.032588 , G loss : 1.323189\n",
      "epoch : 1 , batch : 107 , D loss : 1.039514 , G loss : 1.253054\n",
      "epoch : 1 , batch : 108 , D loss : 0.873251 , G loss : 1.469286\n",
      "epoch : 2 , batch : 0 , D loss : 0.826336 , G loss : 1.594249\n",
      "epoch : 2 , batch : 1 , D loss : 0.956897 , G loss : 1.215827\n",
      "epoch : 2 , batch : 2 , D loss : 0.979450 , G loss : 1.329531\n",
      "epoch : 2 , batch : 3 , D loss : 0.950097 , G loss : 1.393812\n",
      "epoch : 2 , batch : 4 , D loss : 0.990986 , G loss : 1.566673\n",
      "epoch : 2 , batch : 5 , D loss : 0.679426 , G loss : 1.651091\n",
      "epoch : 2 , batch : 6 , D loss : 0.482639 , G loss : 1.930148\n",
      "epoch : 2 , batch : 7 , D loss : 0.915921 , G loss : 1.631026\n",
      "epoch : 2 , batch : 8 , D loss : 0.962647 , G loss : 1.779886\n",
      "epoch : 2 , batch : 9 , D loss : 1.028958 , G loss : 1.695098\n",
      "epoch : 2 , batch : 10 , D loss : 0.529728 , G loss : 2.137487\n",
      "epoch : 2 , batch : 11 , D loss : 1.239592 , G loss : 1.616655\n",
      "epoch : 2 , batch : 12 , D loss : 1.096838 , G loss : 2.105841\n",
      "epoch : 2 , batch : 13 , D loss : 0.676163 , G loss : 2.160516\n",
      "epoch : 2 , batch : 14 , D loss : 0.637757 , G loss : 2.556359\n",
      "epoch : 2 , batch : 15 , D loss : 0.589338 , G loss : 2.062927\n",
      "epoch : 2 , batch : 16 , D loss : 1.464172 , G loss : 1.729571\n",
      "epoch : 2 , batch : 17 , D loss : 1.055714 , G loss : 1.693621\n",
      "epoch : 2 , batch : 18 , D loss : 1.136959 , G loss : 1.446017\n",
      "epoch : 2 , batch : 19 , D loss : 0.990208 , G loss : 1.386731\n",
      "epoch : 2 , batch : 20 , D loss : 1.213444 , G loss : 1.271990\n",
      "epoch : 2 , batch : 21 , D loss : 0.780392 , G loss : 1.579824\n"
     ]
    },
    {
     "name": "stdout",
     "output_type": "stream",
     "text": [
      "epoch : 2 , batch : 22 , D loss : 1.213719 , G loss : 1.334873\n",
      "epoch : 2 , batch : 23 , D loss : 1.037866 , G loss : 1.392112\n",
      "epoch : 2 , batch : 24 , D loss : 1.345093 , G loss : 1.193666\n",
      "epoch : 2 , batch : 25 , D loss : 1.181651 , G loss : 1.232688\n",
      "epoch : 2 , batch : 26 , D loss : 1.156292 , G loss : 1.149086\n",
      "epoch : 2 , batch : 27 , D loss : 0.920258 , G loss : 1.436649\n",
      "epoch : 2 , batch : 28 , D loss : 0.795596 , G loss : 1.552139\n",
      "epoch : 2 , batch : 29 , D loss : 0.689537 , G loss : 1.689967\n",
      "epoch : 2 , batch : 30 , D loss : 1.133419 , G loss : 1.468931\n",
      "epoch : 2 , batch : 31 , D loss : 0.857269 , G loss : 1.428049\n",
      "epoch : 2 , batch : 32 , D loss : 0.782816 , G loss : 1.632280\n",
      "epoch : 2 , batch : 33 , D loss : 0.859729 , G loss : 1.663210\n",
      "epoch : 2 , batch : 34 , D loss : 0.816291 , G loss : 1.544116\n",
      "epoch : 2 , batch : 35 , D loss : 0.758728 , G loss : 1.498205\n",
      "epoch : 2 , batch : 36 , D loss : 0.798525 , G loss : 1.462745\n",
      "epoch : 2 , batch : 37 , D loss : 1.150663 , G loss : 1.381697\n",
      "epoch : 2 , batch : 38 , D loss : 1.267247 , G loss : 1.398316\n",
      "epoch : 2 , batch : 39 , D loss : 0.967890 , G loss : 1.343875\n",
      "epoch : 2 , batch : 40 , D loss : 0.831742 , G loss : 1.608030\n",
      "epoch : 2 , batch : 41 , D loss : 1.177946 , G loss : 1.321301\n",
      "epoch : 2 , batch : 42 , D loss : 0.801902 , G loss : 1.548719\n",
      "epoch : 2 , batch : 43 , D loss : 1.171272 , G loss : 1.377132\n",
      "epoch : 2 , batch : 44 , D loss : 1.143898 , G loss : 1.276601\n",
      "epoch : 2 , batch : 45 , D loss : 0.575401 , G loss : 1.703312\n",
      "epoch : 2 , batch : 46 , D loss : 0.853794 , G loss : 1.568766\n",
      "epoch : 2 , batch : 47 , D loss : 0.932555 , G loss : 1.438262\n",
      "epoch : 2 , batch : 48 , D loss : 0.846106 , G loss : 1.462000\n",
      "epoch : 2 , batch : 49 , D loss : 1.357634 , G loss : 1.373312\n",
      "epoch : 2 , batch : 50 , D loss : 1.615846 , G loss : 2.758775\n",
      "epoch : 2 , batch : 51 , D loss : 1.326293 , G loss : 1.270997\n",
      "epoch : 2 , batch : 52 , D loss : 1.622718 , G loss : 1.255214\n",
      "epoch : 2 , batch : 53 , D loss : 0.982741 , G loss : 1.410026\n",
      "epoch : 2 , batch : 54 , D loss : 0.830082 , G loss : 1.625965\n",
      "epoch : 2 , batch : 55 , D loss : 1.187918 , G loss : 1.392160\n",
      "epoch : 2 , batch : 56 , D loss : 0.777520 , G loss : 1.471839\n",
      "epoch : 2 , batch : 57 , D loss : 0.836322 , G loss : 1.589673\n",
      "epoch : 2 , batch : 58 , D loss : 0.430513 , G loss : 2.062433\n",
      "epoch : 2 , batch : 59 , D loss : 0.890611 , G loss : 1.734843\n",
      "epoch : 2 , batch : 60 , D loss : 1.034401 , G loss : 1.468233\n",
      "epoch : 2 , batch : 61 , D loss : 0.819911 , G loss : 1.635860\n",
      "epoch : 2 , batch : 62 , D loss : 1.500679 , G loss : 1.140983\n",
      "epoch : 2 , batch : 63 , D loss : 0.701526 , G loss : 1.608520\n",
      "epoch : 2 , batch : 64 , D loss : 0.745054 , G loss : 1.599546\n",
      "epoch : 2 , batch : 65 , D loss : 1.114897 , G loss : 1.434983\n",
      "epoch : 2 , batch : 66 , D loss : 0.697464 , G loss : 1.856530\n",
      "epoch : 2 , batch : 67 , D loss : 0.762262 , G loss : 1.957732\n",
      "epoch : 2 , batch : 68 , D loss : 0.985809 , G loss : 1.558989\n",
      "epoch : 2 , batch : 69 , D loss : 1.156617 , G loss : 1.512173\n",
      "epoch : 2 , batch : 70 , D loss : 0.763518 , G loss : 1.654716\n",
      "epoch : 2 , batch : 71 , D loss : 0.614450 , G loss : 1.976302\n",
      "epoch : 2 , batch : 72 , D loss : 0.823388 , G loss : 1.990807\n",
      "epoch : 2 , batch : 73 , D loss : 0.440154 , G loss : 2.379963\n",
      "epoch : 2 , batch : 74 , D loss : 0.978839 , G loss : 1.772056\n",
      "epoch : 2 , batch : 75 , D loss : 1.083396 , G loss : 1.559204\n",
      "epoch : 2 , batch : 76 , D loss : 0.876211 , G loss : 1.636546\n",
      "epoch : 2 , batch : 77 , D loss : 0.900417 , G loss : 1.540160\n",
      "epoch : 2 , batch : 78 , D loss : 0.806874 , G loss : 1.551259\n",
      "epoch : 2 , batch : 79 , D loss : 0.848326 , G loss : 1.696907\n",
      "epoch : 2 , batch : 80 , D loss : 0.731056 , G loss : 1.719276\n",
      "epoch : 2 , batch : 81 , D loss : 1.124174 , G loss : 1.685696\n",
      "epoch : 2 , batch : 82 , D loss : 1.211043 , G loss : 1.379475\n",
      "epoch : 2 , batch : 83 , D loss : 0.712736 , G loss : 1.447630\n",
      "epoch : 2 , batch : 84 , D loss : 0.880230 , G loss : 1.610394\n",
      "epoch : 2 , batch : 85 , D loss : 0.955962 , G loss : 1.437239\n",
      "epoch : 2 , batch : 86 , D loss : 1.215649 , G loss : 1.377240\n",
      "epoch : 2 , batch : 87 , D loss : 0.814915 , G loss : 1.565269\n",
      "epoch : 2 , batch : 88 , D loss : 1.391891 , G loss : 1.213175\n",
      "epoch : 2 , batch : 89 , D loss : 0.985442 , G loss : 1.485143\n",
      "epoch : 2 , batch : 90 , D loss : 0.804348 , G loss : 1.755538\n",
      "epoch : 2 , batch : 91 , D loss : 0.403146 , G loss : 2.059447\n",
      "epoch : 2 , batch : 92 , D loss : 1.176295 , G loss : 1.443687\n",
      "epoch : 2 , batch : 93 , D loss : 0.921934 , G loss : 1.400205\n",
      "epoch : 2 , batch : 94 , D loss : 0.446239 , G loss : 1.785090\n",
      "epoch : 2 , batch : 95 , D loss : 0.807560 , G loss : 1.792475\n",
      "epoch : 2 , batch : 96 , D loss : 0.955417 , G loss : 1.496806\n",
      "epoch : 2 , batch : 97 , D loss : 0.620519 , G loss : 2.021216\n",
      "epoch : 2 , batch : 98 , D loss : 0.913526 , G loss : 1.587948\n",
      "epoch : 2 , batch : 99 , D loss : 1.054337 , G loss : 1.447174\n",
      "epoch : 2 , batch : 100 , D loss : 1.001129 , G loss : 1.650131\n",
      "epoch : 2 , batch : 101 , D loss : 1.175709 , G loss : 1.716893\n",
      "epoch : 2 , batch : 102 , D loss : 1.044122 , G loss : 1.825755\n",
      "epoch : 2 , batch : 103 , D loss : 1.142364 , G loss : 1.508047\n",
      "epoch : 2 , batch : 104 , D loss : 1.083490 , G loss : 1.652334\n",
      "epoch : 2 , batch : 105 , D loss : 0.969352 , G loss : 1.626222\n",
      "epoch : 2 , batch : 106 , D loss : 1.373294 , G loss : 1.637788\n",
      "epoch : 2 , batch : 107 , D loss : 1.132216 , G loss : 1.493236\n",
      "epoch : 2 , batch : 108 , D loss : 1.078528 , G loss : 1.380242\n",
      "epoch : 3 , batch : 0 , D loss : 0.932017 , G loss : 1.482389\n",
      "epoch : 3 , batch : 1 , D loss : 1.163730 , G loss : 1.195237\n",
      "epoch : 3 , batch : 2 , D loss : 1.233678 , G loss : 1.339670\n",
      "epoch : 3 , batch : 3 , D loss : 0.976709 , G loss : 1.322405\n",
      "epoch : 3 , batch : 4 , D loss : 0.858799 , G loss : 1.636756\n",
      "epoch : 3 , batch : 5 , D loss : 0.877676 , G loss : 1.596702\n",
      "epoch : 3 , batch : 6 , D loss : 0.644183 , G loss : 1.771003\n",
      "epoch : 3 , batch : 7 , D loss : 1.049163 , G loss : 1.538719\n",
      "epoch : 3 , batch : 8 , D loss : 1.218981 , G loss : 1.452383\n",
      "epoch : 3 , batch : 9 , D loss : 1.352955 , G loss : 1.363561\n",
      "epoch : 3 , batch : 10 , D loss : 1.184547 , G loss : 1.539635\n",
      "epoch : 3 , batch : 11 , D loss : 1.385270 , G loss : 1.378022\n",
      "epoch : 3 , batch : 12 , D loss : 1.457149 , G loss : 1.058229\n",
      "epoch : 3 , batch : 13 , D loss : 1.085593 , G loss : 1.161268\n",
      "epoch : 3 , batch : 14 , D loss : 1.257830 , G loss : 1.073555\n",
      "epoch : 3 , batch : 15 , D loss : 0.823506 , G loss : 1.382180\n",
      "epoch : 3 , batch : 16 , D loss : 1.163538 , G loss : 1.154873\n",
      "epoch : 3 , batch : 17 , D loss : 1.179465 , G loss : 1.252551\n",
      "epoch : 3 , batch : 18 , D loss : 1.059738 , G loss : 1.166704\n",
      "epoch : 3 , batch : 19 , D loss : 1.200395 , G loss : 1.125504\n",
      "epoch : 3 , batch : 20 , D loss : 1.266478 , G loss : 1.140387\n",
      "epoch : 3 , batch : 21 , D loss : 0.855884 , G loss : 1.408604\n",
      "epoch : 3 , batch : 22 , D loss : 1.148328 , G loss : 1.259975\n",
      "epoch : 3 , batch : 23 , D loss : 0.989465 , G loss : 1.261317\n",
      "epoch : 3 , batch : 24 , D loss : 1.347562 , G loss : 1.108391\n",
      "epoch : 3 , batch : 25 , D loss : 1.211930 , G loss : 1.175018\n",
      "epoch : 3 , batch : 26 , D loss : 1.194251 , G loss : 1.056395\n",
      "epoch : 3 , batch : 27 , D loss : 0.923756 , G loss : 1.304660\n",
      "epoch : 3 , batch : 28 , D loss : 0.755664 , G loss : 1.325344\n",
      "epoch : 3 , batch : 29 , D loss : 0.880586 , G loss : 1.432857\n",
      "epoch : 3 , batch : 30 , D loss : 0.925556 , G loss : 1.421067\n",
      "epoch : 3 , batch : 31 , D loss : 1.018610 , G loss : 1.340516\n",
      "epoch : 3 , batch : 32 , D loss : 0.937585 , G loss : 1.505056\n",
      "epoch : 3 , batch : 33 , D loss : 0.840757 , G loss : 1.534340\n",
      "epoch : 3 , batch : 34 , D loss : 1.050839 , G loss : 1.454455\n",
      "epoch : 3 , batch : 35 , D loss : 0.831574 , G loss : 1.468414\n",
      "epoch : 3 , batch : 36 , D loss : 1.084742 , G loss : 1.331416\n",
      "epoch : 3 , batch : 37 , D loss : 1.067140 , G loss : 1.294312\n",
      "epoch : 3 , batch : 38 , D loss : 1.278149 , G loss : 1.171329\n",
      "epoch : 3 , batch : 39 , D loss : 1.251581 , G loss : 1.123178\n",
      "epoch : 3 , batch : 40 , D loss : 0.948031 , G loss : 1.273106\n",
      "epoch : 3 , batch : 41 , D loss : 1.222124 , G loss : 1.224041\n",
      "epoch : 3 , batch : 42 , D loss : 1.127984 , G loss : 1.321411\n",
      "epoch : 3 , batch : 43 , D loss : 1.221756 , G loss : 1.231057\n",
      "epoch : 3 , batch : 44 , D loss : 1.096566 , G loss : 1.184365\n",
      "epoch : 3 , batch : 45 , D loss : 0.843541 , G loss : 1.442952\n",
      "epoch : 3 , batch : 46 , D loss : 1.071904 , G loss : 1.364916\n",
      "epoch : 3 , batch : 47 , D loss : 1.097055 , G loss : 1.453866\n",
      "epoch : 3 , batch : 48 , D loss : 1.359422 , G loss : 1.260594\n",
      "epoch : 3 , batch : 49 , D loss : 1.388731 , G loss : 1.060530\n",
      "epoch : 3 , batch : 50 , D loss : 1.438321 , G loss : 0.942087\n",
      "epoch : 3 , batch : 51 , D loss : 1.352532 , G loss : 1.055244\n",
      "epoch : 3 , batch : 52 , D loss : 1.162229 , G loss : 1.132391\n"
     ]
    },
    {
     "name": "stdout",
     "output_type": "stream",
     "text": [
      "epoch : 3 , batch : 53 , D loss : 0.924511 , G loss : 1.217865\n",
      "epoch : 3 , batch : 54 , D loss : 0.818674 , G loss : 1.300122\n",
      "epoch : 3 , batch : 55 , D loss : 1.192407 , G loss : 1.173280\n",
      "epoch : 3 , batch : 56 , D loss : 1.094616 , G loss : 1.183600\n",
      "epoch : 3 , batch : 57 , D loss : 0.893631 , G loss : 1.262520\n",
      "epoch : 3 , batch : 58 , D loss : 0.869226 , G loss : 1.514092\n",
      "epoch : 3 , batch : 59 , D loss : 1.015672 , G loss : 1.421012\n",
      "epoch : 3 , batch : 60 , D loss : 1.144308 , G loss : 1.202404\n",
      "epoch : 3 , batch : 61 , D loss : 1.175920 , G loss : 1.230274\n",
      "epoch : 3 , batch : 62 , D loss : 1.498478 , G loss : 1.191699\n",
      "epoch : 3 , batch : 63 , D loss : 0.985598 , G loss : 1.206425\n",
      "epoch : 3 , batch : 64 , D loss : 1.132123 , G loss : 1.128354\n",
      "epoch : 3 , batch : 65 , D loss : 1.213471 , G loss : 1.254501\n",
      "epoch : 3 , batch : 66 , D loss : 0.952213 , G loss : 1.260359\n",
      "epoch : 3 , batch : 67 , D loss : 1.019226 , G loss : 1.296034\n",
      "epoch : 3 , batch : 68 , D loss : 1.097892 , G loss : 1.182222\n",
      "epoch : 3 , batch : 69 , D loss : 1.197071 , G loss : 1.143788\n",
      "epoch : 3 , batch : 70 , D loss : 1.119206 , G loss : 1.094841\n",
      "epoch : 3 , batch : 71 , D loss : 1.002511 , G loss : 1.299756\n",
      "epoch : 3 , batch : 72 , D loss : 1.018905 , G loss : 1.278595\n",
      "epoch : 3 , batch : 73 , D loss : 1.006584 , G loss : 1.307497\n",
      "epoch : 3 , batch : 74 , D loss : 1.130286 , G loss : 1.174267\n",
      "epoch : 3 , batch : 75 , D loss : 1.299493 , G loss : 1.133772\n",
      "epoch : 3 , batch : 76 , D loss : 1.163628 , G loss : 1.213129\n",
      "epoch : 3 , batch : 77 , D loss : 1.161939 , G loss : 1.201446\n",
      "epoch : 3 , batch : 78 , D loss : 1.163921 , G loss : 1.396695\n",
      "epoch : 3 , batch : 79 , D loss : 1.011253 , G loss : 1.256810\n",
      "epoch : 3 , batch : 80 , D loss : 1.133515 , G loss : 1.228914\n",
      "epoch : 3 , batch : 81 , D loss : 1.339570 , G loss : 1.067737\n",
      "epoch : 3 , batch : 82 , D loss : 1.223486 , G loss : 1.152660\n",
      "epoch : 3 , batch : 83 , D loss : 0.988309 , G loss : 1.270666\n",
      "epoch : 3 , batch : 84 , D loss : 1.153566 , G loss : 1.237490\n",
      "epoch : 3 , batch : 85 , D loss : 1.138898 , G loss : 1.171174\n",
      "epoch : 3 , batch : 86 , D loss : 1.294579 , G loss : 1.029155\n",
      "epoch : 3 , batch : 87 , D loss : 1.205106 , G loss : 1.169312\n",
      "epoch : 3 , batch : 88 , D loss : 1.467479 , G loss : 0.982411\n",
      "epoch : 3 , batch : 89 , D loss : 1.130007 , G loss : 1.133646\n",
      "epoch : 3 , batch : 90 , D loss : 1.244995 , G loss : 1.103023\n",
      "epoch : 3 , batch : 91 , D loss : 1.121787 , G loss : 1.124502\n",
      "epoch : 3 , batch : 92 , D loss : 1.201206 , G loss : 1.019081\n",
      "epoch : 3 , batch : 93 , D loss : 1.167354 , G loss : 1.144162\n",
      "epoch : 3 , batch : 94 , D loss : 1.086592 , G loss : 1.180502\n",
      "epoch : 3 , batch : 95 , D loss : 1.093053 , G loss : 1.232754\n",
      "epoch : 3 , batch : 96 , D loss : 1.170592 , G loss : 1.102354\n",
      "epoch : 3 , batch : 97 , D loss : 1.394366 , G loss : 1.203611\n",
      "epoch : 3 , batch : 98 , D loss : 1.269570 , G loss : 1.016366\n",
      "epoch : 3 , batch : 99 , D loss : 1.373140 , G loss : 0.963163\n",
      "epoch : 3 , batch : 100 , D loss : 1.247814 , G loss : 1.055533\n",
      "epoch : 3 , batch : 101 , D loss : 1.096422 , G loss : 1.140191\n",
      "epoch : 3 , batch : 102 , D loss : 1.043083 , G loss : 1.099472\n",
      "epoch : 3 , batch : 103 , D loss : 1.212323 , G loss : 1.075329\n",
      "epoch : 3 , batch : 104 , D loss : 1.261286 , G loss : 1.017173\n",
      "epoch : 3 , batch : 105 , D loss : 1.168604 , G loss : 1.132567\n",
      "epoch : 3 , batch : 106 , D loss : 1.317202 , G loss : 1.102616\n",
      "epoch : 3 , batch : 107 , D loss : 1.254607 , G loss : 1.101049\n",
      "epoch : 3 , batch : 108 , D loss : 1.338261 , G loss : 1.054579\n",
      "epoch : 4 , batch : 0 , D loss : 1.345153 , G loss : 1.036756\n",
      "epoch : 4 , batch : 1 , D loss : 1.293111 , G loss : 1.008312\n",
      "epoch : 4 , batch : 2 , D loss : 1.357058 , G loss : 1.017651\n",
      "epoch : 4 , batch : 3 , D loss : 1.276219 , G loss : 0.983683\n",
      "epoch : 4 , batch : 4 , D loss : 1.167673 , G loss : 1.162037\n",
      "epoch : 4 , batch : 5 , D loss : 1.131094 , G loss : 1.073050\n",
      "epoch : 4 , batch : 6 , D loss : 1.155064 , G loss : 1.121550\n",
      "epoch : 4 , batch : 7 , D loss : 1.280688 , G loss : 1.107918\n",
      "epoch : 4 , batch : 8 , D loss : 1.286713 , G loss : 1.043309\n",
      "epoch : 4 , batch : 9 , D loss : 1.453139 , G loss : 0.955634\n",
      "epoch : 4 , batch : 10 , D loss : 1.180776 , G loss : 1.103051\n",
      "epoch : 4 , batch : 11 , D loss : 1.261012 , G loss : 1.008298\n",
      "epoch : 4 , batch : 12 , D loss : 1.362223 , G loss : 1.026550\n",
      "epoch : 4 , batch : 13 , D loss : 1.327541 , G loss : 1.027693\n",
      "epoch : 4 , batch : 14 , D loss : 1.373564 , G loss : 1.028446\n",
      "epoch : 4 , batch : 15 , D loss : 1.238955 , G loss : 1.051519\n",
      "epoch : 4 , batch : 16 , D loss : 1.411739 , G loss : 0.926954\n",
      "epoch : 4 , batch : 17 , D loss : 1.371671 , G loss : 0.984171\n",
      "epoch : 4 , batch : 18 , D loss : 1.284984 , G loss : 1.041880\n",
      "epoch : 4 , batch : 19 , D loss : 1.307386 , G loss : 1.003272\n",
      "epoch : 4 , batch : 20 , D loss : 1.255468 , G loss : 1.094637\n",
      "epoch : 4 , batch : 21 , D loss : 1.263880 , G loss : 0.980219\n",
      "epoch : 4 , batch : 22 , D loss : 1.316766 , G loss : 0.931634\n",
      "epoch : 4 , batch : 23 , D loss : 1.406441 , G loss : 0.925570\n",
      "epoch : 4 , batch : 24 , D loss : 1.328992 , G loss : 0.957028\n",
      "epoch : 4 , batch : 25 , D loss : 1.263462 , G loss : 0.970515\n",
      "epoch : 4 , batch : 26 , D loss : 1.355559 , G loss : 0.984703\n",
      "epoch : 4 , batch : 27 , D loss : 1.101364 , G loss : 1.022097\n",
      "epoch : 4 , batch : 28 , D loss : 1.145579 , G loss : 1.060550\n",
      "epoch : 4 , batch : 29 , D loss : 1.483269 , G loss : 1.043665\n",
      "epoch : 4 , batch : 30 , D loss : 1.365771 , G loss : 0.900161\n",
      "epoch : 4 , batch : 31 , D loss : 1.241080 , G loss : 0.931438\n",
      "epoch : 4 , batch : 32 , D loss : 1.232732 , G loss : 0.976685\n",
      "epoch : 4 , batch : 33 , D loss : 1.146926 , G loss : 0.969254\n",
      "epoch : 4 , batch : 34 , D loss : 1.056983 , G loss : 1.031723\n",
      "epoch : 4 , batch : 35 , D loss : 1.186136 , G loss : 0.962436\n",
      "epoch : 4 , batch : 36 , D loss : 1.259177 , G loss : 1.021201\n",
      "epoch : 4 , batch : 37 , D loss : 1.345870 , G loss : 0.955802\n",
      "epoch : 4 , batch : 38 , D loss : 1.383332 , G loss : 0.965028\n",
      "epoch : 4 , batch : 39 , D loss : 1.297130 , G loss : 0.937191\n",
      "epoch : 4 , batch : 40 , D loss : 1.203671 , G loss : 0.999793\n",
      "epoch : 4 , batch : 41 , D loss : 1.266968 , G loss : 0.920516\n",
      "epoch : 4 , batch : 42 , D loss : 1.224845 , G loss : 0.964400\n",
      "epoch : 4 , batch : 43 , D loss : 1.324184 , G loss : 0.896951\n",
      "epoch : 4 , batch : 44 , D loss : 1.222824 , G loss : 0.951166\n",
      "epoch : 4 , batch : 45 , D loss : 1.108233 , G loss : 1.030898\n",
      "epoch : 4 , batch : 46 , D loss : 1.307393 , G loss : 1.056540\n",
      "epoch : 4 , batch : 47 , D loss : 1.300899 , G loss : 1.037691\n",
      "epoch : 4 , batch : 48 , D loss : 1.412373 , G loss : 0.908645\n",
      "epoch : 4 , batch : 49 , D loss : 1.388634 , G loss : 0.869184\n",
      "epoch : 4 , batch : 50 , D loss : 1.401583 , G loss : 0.831066\n",
      "epoch : 4 , batch : 51 , D loss : 1.334647 , G loss : 0.940251\n",
      "epoch : 4 , batch : 52 , D loss : 1.152379 , G loss : 1.002091\n",
      "epoch : 4 , batch : 53 , D loss : 1.348368 , G loss : 0.917602\n",
      "epoch : 4 , batch : 54 , D loss : 1.141944 , G loss : 0.971667\n",
      "epoch : 4 , batch : 55 , D loss : 1.304830 , G loss : 0.932005\n",
      "epoch : 4 , batch : 56 , D loss : 1.414716 , G loss : 0.949404\n",
      "epoch : 4 , batch : 57 , D loss : 1.228761 , G loss : 0.980957\n",
      "epoch : 4 , batch : 58 , D loss : 1.232536 , G loss : 0.986385\n",
      "epoch : 4 , batch : 59 , D loss : 1.263172 , G loss : 0.997619\n",
      "epoch : 4 , batch : 60 , D loss : 1.329396 , G loss : 0.970303\n",
      "epoch : 4 , batch : 61 , D loss : 1.238484 , G loss : 1.014347\n",
      "epoch : 4 , batch : 62 , D loss : 1.371409 , G loss : 0.914040\n",
      "epoch : 4 , batch : 63 , D loss : 1.298571 , G loss : 0.949817\n",
      "epoch : 4 , batch : 64 , D loss : 1.240117 , G loss : 0.940743\n",
      "epoch : 4 , batch : 65 , D loss : 1.279385 , G loss : 0.949601\n",
      "epoch : 4 , batch : 66 , D loss : 1.186123 , G loss : 0.999994\n",
      "epoch : 4 , batch : 67 , D loss : 1.204065 , G loss : 0.989519\n",
      "epoch : 4 , batch : 68 , D loss : 1.228921 , G loss : 0.911196\n",
      "epoch : 4 , batch : 69 , D loss : 1.383785 , G loss : 0.903720\n",
      "epoch : 4 , batch : 70 , D loss : 1.307128 , G loss : 0.904525\n",
      "epoch : 4 , batch : 71 , D loss : 1.346834 , G loss : 0.925863\n",
      "epoch : 4 , batch : 72 , D loss : 1.200703 , G loss : 0.979139\n",
      "epoch : 4 , batch : 73 , D loss : 1.155198 , G loss : 1.041393\n",
      "epoch : 4 , batch : 74 , D loss : 1.208938 , G loss : 0.974411\n",
      "epoch : 4 , batch : 75 , D loss : 1.328494 , G loss : 0.920420\n",
      "epoch : 4 , batch : 76 , D loss : 1.355871 , G loss : 0.936512\n",
      "epoch : 4 , batch : 77 , D loss : 1.368847 , G loss : 0.905309\n",
      "epoch : 4 , batch : 78 , D loss : 1.129650 , G loss : 0.998052\n",
      "epoch : 4 , batch : 79 , D loss : 1.136204 , G loss : 0.984697\n",
      "epoch : 4 , batch : 80 , D loss : 1.218043 , G loss : 0.973016\n",
      "epoch : 4 , batch : 81 , D loss : 1.366103 , G loss : 0.944174\n",
      "epoch : 4 , batch : 82 , D loss : 1.233538 , G loss : 0.986655\n",
      "epoch : 4 , batch : 83 , D loss : 1.092922 , G loss : 1.026671\n",
      "epoch : 4 , batch : 84 , D loss : 1.196762 , G loss : 1.005145\n"
     ]
    },
    {
     "name": "stdout",
     "output_type": "stream",
     "text": [
      "epoch : 4 , batch : 85 , D loss : 1.361619 , G loss : 0.989526\n",
      "epoch : 4 , batch : 86 , D loss : 1.465289 , G loss : 0.887045\n",
      "epoch : 4 , batch : 87 , D loss : 1.178155 , G loss : 1.080282\n",
      "epoch : 4 , batch : 88 , D loss : 1.506377 , G loss : 0.893358\n",
      "epoch : 4 , batch : 89 , D loss : 1.283617 , G loss : 0.987353\n",
      "epoch : 4 , batch : 90 , D loss : 1.436107 , G loss : 0.951819\n",
      "epoch : 4 , batch : 91 , D loss : 1.190398 , G loss : 0.995531\n",
      "epoch : 4 , batch : 92 , D loss : 1.330615 , G loss : 0.897206\n",
      "epoch : 4 , batch : 93 , D loss : 1.351627 , G loss : 0.880462\n",
      "epoch : 4 , batch : 94 , D loss : 1.105958 , G loss : 0.994164\n",
      "epoch : 4 , batch : 95 , D loss : 1.219142 , G loss : 0.959220\n",
      "epoch : 4 , batch : 96 , D loss : 1.261962 , G loss : 0.972681\n",
      "epoch : 4 , batch : 97 , D loss : 1.257474 , G loss : 0.994796\n",
      "epoch : 4 , batch : 98 , D loss : 1.196605 , G loss : 1.010761\n",
      "epoch : 4 , batch : 99 , D loss : 1.248105 , G loss : 0.989862\n",
      "epoch : 4 , batch : 100 , D loss : 1.394373 , G loss : 0.963127\n",
      "epoch : 4 , batch : 101 , D loss : 1.308132 , G loss : 0.963883\n",
      "epoch : 4 , batch : 102 , D loss : 1.276622 , G loss : 1.018880\n",
      "epoch : 4 , batch : 103 , D loss : 1.317210 , G loss : 0.980711\n",
      "epoch : 4 , batch : 104 , D loss : 1.325855 , G loss : 0.941951\n",
      "epoch : 4 , batch : 105 , D loss : 1.309262 , G loss : 0.964475\n",
      "epoch : 4 , batch : 106 , D loss : 1.298388 , G loss : 0.937840\n",
      "epoch : 4 , batch : 107 , D loss : 1.277325 , G loss : 0.953430\n",
      "epoch : 4 , batch : 108 , D loss : 1.436999 , G loss : 0.880973\n",
      "epoch : 5 , batch : 0 , D loss : 1.326406 , G loss : 0.962432\n",
      "epoch : 5 , batch : 1 , D loss : 1.327039 , G loss : 0.914718\n",
      "epoch : 5 , batch : 2 , D loss : 1.273253 , G loss : 0.993368\n",
      "epoch : 5 , batch : 3 , D loss : 1.221540 , G loss : 0.983531\n",
      "epoch : 5 , batch : 4 , D loss : 1.344943 , G loss : 0.976049\n",
      "epoch : 5 , batch : 5 , D loss : 1.161897 , G loss : 1.016755\n",
      "epoch : 5 , batch : 6 , D loss : 1.395694 , G loss : 0.932127\n",
      "epoch : 5 , batch : 7 , D loss : 1.336483 , G loss : 0.975235\n",
      "epoch : 5 , batch : 8 , D loss : 1.336069 , G loss : 0.934217\n",
      "epoch : 5 , batch : 9 , D loss : 1.239265 , G loss : 0.977466\n",
      "epoch : 5 , batch : 10 , D loss : 1.343765 , G loss : 0.955069\n",
      "epoch : 5 , batch : 11 , D loss : 1.355811 , G loss : 0.916629\n",
      "epoch : 5 , batch : 12 , D loss : 1.339296 , G loss : 0.925505\n",
      "epoch : 5 , batch : 13 , D loss : 1.223343 , G loss : 0.956074\n",
      "epoch : 5 , batch : 14 , D loss : 1.275458 , G loss : 0.972627\n",
      "epoch : 5 , batch : 15 , D loss : 1.167203 , G loss : 1.060646\n",
      "epoch : 5 , batch : 16 , D loss : 1.268815 , G loss : 0.944326\n",
      "epoch : 5 , batch : 17 , D loss : 1.218516 , G loss : 1.014163\n",
      "epoch : 5 , batch : 18 , D loss : 1.272297 , G loss : 0.989923\n",
      "epoch : 5 , batch : 19 , D loss : 1.286694 , G loss : 0.958684\n",
      "epoch : 5 , batch : 20 , D loss : 1.436950 , G loss : 0.948971\n",
      "epoch : 5 , batch : 21 , D loss : 1.202640 , G loss : 0.959441\n",
      "epoch : 5 , batch : 22 , D loss : 1.326942 , G loss : 0.989244\n",
      "epoch : 5 , batch : 23 , D loss : 1.311691 , G loss : 0.959064\n",
      "epoch : 5 , batch : 24 , D loss : 1.390213 , G loss : 0.926802\n",
      "epoch : 5 , batch : 25 , D loss : 1.327286 , G loss : 0.936002\n",
      "epoch : 5 , batch : 26 , D loss : 1.440790 , G loss : 0.876149\n",
      "epoch : 5 , batch : 27 , D loss : 1.295390 , G loss : 0.899047\n",
      "epoch : 5 , batch : 28 , D loss : 1.316537 , G loss : 0.880093\n",
      "epoch : 5 , batch : 29 , D loss : 1.294784 , G loss : 0.927016\n",
      "epoch : 5 , batch : 30 , D loss : 1.330639 , G loss : 0.896223\n",
      "epoch : 5 , batch : 31 , D loss : 1.196332 , G loss : 0.898167\n",
      "epoch : 5 , batch : 32 , D loss : 1.334443 , G loss : 0.907403\n",
      "epoch : 5 , batch : 33 , D loss : 1.288063 , G loss : 0.910540\n",
      "epoch : 5 , batch : 34 , D loss : 1.157963 , G loss : 1.011590\n",
      "epoch : 5 , batch : 35 , D loss : 1.291081 , G loss : 0.931516\n",
      "epoch : 5 , batch : 36 , D loss : 1.203089 , G loss : 0.984961\n",
      "epoch : 5 , batch : 37 , D loss : 1.383947 , G loss : 0.971717\n",
      "epoch : 5 , batch : 38 , D loss : 1.412188 , G loss : 0.934421\n",
      "epoch : 5 , batch : 39 , D loss : 1.262671 , G loss : 0.945941\n",
      "epoch : 5 , batch : 40 , D loss : 1.276382 , G loss : 0.953472\n",
      "epoch : 5 , batch : 41 , D loss : 1.302977 , G loss : 0.909466\n",
      "epoch : 5 , batch : 42 , D loss : 1.333440 , G loss : 0.899889\n",
      "epoch : 5 , batch : 43 , D loss : 1.315551 , G loss : 0.919330\n",
      "epoch : 5 , batch : 44 , D loss : 1.206245 , G loss : 0.944451\n",
      "epoch : 5 , batch : 45 , D loss : 1.232035 , G loss : 1.001783\n",
      "epoch : 5 , batch : 46 , D loss : 1.162135 , G loss : 1.030582\n",
      "epoch : 5 , batch : 47 , D loss : 1.197666 , G loss : 1.043238\n",
      "epoch : 5 , batch : 48 , D loss : 1.487788 , G loss : 0.970121\n",
      "epoch : 5 , batch : 49 , D loss : 1.305721 , G loss : 0.874651\n",
      "epoch : 5 , batch : 50 , D loss : 1.399997 , G loss : 0.773632\n",
      "epoch : 5 , batch : 51 , D loss : 1.350309 , G loss : 1.014393\n",
      "epoch : 5 , batch : 52 , D loss : 1.287197 , G loss : 0.946811\n",
      "epoch : 5 , batch : 53 , D loss : 1.403671 , G loss : 0.972637\n",
      "epoch : 5 , batch : 54 , D loss : 1.442860 , G loss : 0.956252\n",
      "epoch : 5 , batch : 55 , D loss : 1.294338 , G loss : 0.948366\n",
      "epoch : 5 , batch : 56 , D loss : 1.412176 , G loss : 0.975848\n",
      "epoch : 5 , batch : 57 , D loss : 1.215483 , G loss : 0.972541\n",
      "epoch : 5 , batch : 58 , D loss : 1.299814 , G loss : 1.002975\n",
      "epoch : 5 , batch : 59 , D loss : 1.318436 , G loss : 0.978602\n",
      "epoch : 5 , batch : 60 , D loss : 1.348827 , G loss : 0.970423\n",
      "epoch : 5 , batch : 61 , D loss : 1.302048 , G loss : 0.949036\n",
      "epoch : 5 , batch : 62 , D loss : 1.333194 , G loss : 0.888385\n",
      "epoch : 5 , batch : 63 , D loss : 1.427099 , G loss : 0.932279\n",
      "epoch : 5 , batch : 64 , D loss : 1.282496 , G loss : 0.909068\n",
      "epoch : 5 , batch : 65 , D loss : 1.289009 , G loss : 0.906975\n",
      "epoch : 5 , batch : 66 , D loss : 1.301804 , G loss : 0.886401\n",
      "epoch : 5 , batch : 67 , D loss : 1.341923 , G loss : 0.907063\n",
      "epoch : 5 , batch : 68 , D loss : 1.264740 , G loss : 0.875088\n",
      "epoch : 5 , batch : 69 , D loss : 1.279340 , G loss : 0.931716\n",
      "epoch : 5 , batch : 70 , D loss : 1.313248 , G loss : 0.900946\n",
      "epoch : 5 , batch : 71 , D loss : 1.273922 , G loss : 0.954899\n",
      "epoch : 5 , batch : 72 , D loss : 1.311836 , G loss : 0.930970\n",
      "epoch : 5 , batch : 73 , D loss : 1.341621 , G loss : 0.928677\n",
      "epoch : 5 , batch : 74 , D loss : 1.420872 , G loss : 0.903493\n",
      "epoch : 5 , batch : 75 , D loss : 1.350239 , G loss : 0.860537\n",
      "epoch : 5 , batch : 76 , D loss : 1.346579 , G loss : 0.933803\n",
      "epoch : 5 , batch : 77 , D loss : 1.182852 , G loss : 0.950426\n",
      "epoch : 5 , batch : 78 , D loss : 1.327860 , G loss : 0.968876\n",
      "epoch : 5 , batch : 79 , D loss : 1.140123 , G loss : 0.981214\n",
      "epoch : 5 , batch : 80 , D loss : 1.248108 , G loss : 0.922883\n",
      "epoch : 5 , batch : 81 , D loss : 1.388615 , G loss : 0.920537\n",
      "epoch : 5 , batch : 82 , D loss : 1.217810 , G loss : 0.989014\n",
      "epoch : 5 , batch : 83 , D loss : 1.229815 , G loss : 1.016635\n",
      "epoch : 5 , batch : 84 , D loss : 1.277322 , G loss : 0.957357\n",
      "epoch : 5 , batch : 85 , D loss : 1.260410 , G loss : 1.026746\n",
      "epoch : 5 , batch : 86 , D loss : 1.429605 , G loss : 0.965049\n",
      "epoch : 5 , batch : 87 , D loss : 1.158551 , G loss : 1.032705\n",
      "epoch : 5 , batch : 88 , D loss : 1.454382 , G loss : 0.914931\n",
      "epoch : 5 , batch : 89 , D loss : 1.269514 , G loss : 0.933156\n",
      "epoch : 5 , batch : 90 , D loss : 1.299958 , G loss : 0.927651\n",
      "epoch : 5 , batch : 91 , D loss : 1.364811 , G loss : 0.938858\n",
      "epoch : 5 , batch : 92 , D loss : 1.343523 , G loss : 0.918055\n",
      "epoch : 5 , batch : 93 , D loss : 1.314542 , G loss : 0.932676\n",
      "epoch : 5 , batch : 94 , D loss : 1.467025 , G loss : 0.940646\n",
      "epoch : 5 , batch : 95 , D loss : 1.307947 , G loss : 0.930892\n",
      "epoch : 5 , batch : 96 , D loss : 1.296074 , G loss : 0.906377\n",
      "epoch : 5 , batch : 97 , D loss : 1.451544 , G loss : 0.906159\n",
      "epoch : 5 , batch : 98 , D loss : 1.238574 , G loss : 0.906098\n",
      "epoch : 5 , batch : 99 , D loss : 1.300234 , G loss : 0.863434\n",
      "epoch : 5 , batch : 100 , D loss : 1.247847 , G loss : 0.958731\n",
      "epoch : 5 , batch : 101 , D loss : 1.200401 , G loss : 0.921733\n",
      "epoch : 5 , batch : 102 , D loss : 1.320003 , G loss : 0.930538\n",
      "epoch : 5 , batch : 103 , D loss : 1.326966 , G loss : 0.879095\n",
      "epoch : 5 , batch : 104 , D loss : 1.419397 , G loss : 0.940806\n",
      "epoch : 5 , batch : 105 , D loss : 1.273235 , G loss : 1.001857\n",
      "epoch : 5 , batch : 106 , D loss : 1.327680 , G loss : 0.933279\n",
      "epoch : 5 , batch : 107 , D loss : 1.354489 , G loss : 0.949900\n",
      "epoch : 5 , batch : 108 , D loss : 1.355353 , G loss : 0.910888\n"
     ]
    }
   ],
   "source": [
    "# Train the GAN Network\n",
    "if __name__ == '__main__':\n",
    "    gan1,generator1,discriminator1,D_loss,G_loss=train(5,step_time,feature_size,gan_input_dim,30)"
   ]
  },
  {
   "cell_type": "markdown",
   "metadata": {},
   "source": [
    "## Plot D_loss"
   ]
  },
  {
   "cell_type": "code",
   "execution_count": 12,
   "metadata": {},
   "outputs": [
    {
     "data": {
      "text/plain": [
       "[<matplotlib.lines.Line2D at 0x179843c8>]"
      ]
     },
     "execution_count": 12,
     "metadata": {},
     "output_type": "execute_result"
    },
    {
     "data": {
      "image/png": "[encoded data removed]",
      "text/plain": [
       "<Figure size 432x288 with 1 Axes>"
      ]
     },
     "metadata": {
      "needs_background": "light"
     },
     "output_type": "display_data"
    }
   ],
   "source": [
    "D_loss=np.array(D_loss)\n",
    "plt.plot(D_loss, color = 'red')"
   ]
  },
  {
   "cell_type": "markdown",
   "metadata": {},
   "source": [
    "## Plot G_loss"
   ]
  },
  {
   "cell_type": "code",
   "execution_count": 13,
   "metadata": {},
   "outputs": [
    {
     "data": {
      "text/plain": [
       "[<matplotlib.lines.Line2D at 0x17a1bc50>]"
      ]
     },
     "execution_count": 13,
     "metadata": {},
     "output_type": "execute_result"
    },
    {
     "data": {
      "image/png": "[encoded data removed]",
      "text/plain": [
       "<Figure size 432x288 with 1 Axes>"
      ]
     },
     "metadata": {
      "needs_background": "light"
     },
     "output_type": "display_data"
    }
   ],
   "source": [
    "G_loss=np.array(G_loss)\n",
    "plt.plot(G_loss, color = 'red')"
   ]
  },
  {
   "cell_type": "markdown",
   "metadata": {},
   "source": [
    "# Import Test Data"
   ]
  },
  {
   "cell_type": "code",
   "execution_count": 14,
   "metadata": {},
   "outputs": [
    {
     "data": {
      "text/plain": [
       "(364, 5, 6)"
      ]
     },
     "execution_count": 14,
     "metadata": {},
     "output_type": "execute_result"
    }
   ],
   "source": [
    "dataset = pd.read_csv('PAICC_test.csv')\n",
    "dataset_test = dataset.iloc[:,1:7].values\n",
    "\n",
    "data_test=[]\n",
    "for i in range(5,368+1):\n",
    "    data_test.append(dataset_test[i-5:i,:])\n",
    "# data_train = np.array(data_train)        \n",
    "\n",
    "data_test_scaled = []\n",
    "for w in data_test:\n",
    "    norm_win = sc.fit_transform(w)\n",
    "    data_test_scaled.append(norm_win)\n",
    "data_test_scaled = np.array(data_test_scaled)\n",
    "data_test_scaled.shape"
   ]
  },
  {
   "cell_type": "code",
   "execution_count": 15,
   "metadata": {},
   "outputs": [
    {
     "name": "stdout",
     "output_type": "stream",
     "text": [
      "(363, 5, 6)\n",
      "(363, 1, 6)\n"
     ]
    }
   ],
   "source": [
    "x_test = data_test_scaled[0:363,:,:]\n",
    "y_test = data_test_scaled[1:364,4,:]\n",
    "y_test=np.expand_dims(y_test, axis=1)\n",
    "print(x_test.shape)\n",
    "print(y_test.shape)"
   ]
  },
  {
   "cell_type": "markdown",
   "metadata": {},
   "source": [
    "# Testing our GAN"
   ]
  },
  {
   "cell_type": "code",
   "execution_count": 16,
   "metadata": {},
   "outputs": [],
   "source": [
    "predicted=generator1.predict(x_test)"
   ]
  },
  {
   "cell_type": "markdown",
   "metadata": {},
   "source": [
    "# Inverse Transform the Results"
   ]
  },
  {
   "cell_type": "code",
   "execution_count": 17,
   "metadata": {},
   "outputs": [
    {
     "data": {
      "text/plain": [
       "(363, 1, 6)"
      ]
     },
     "execution_count": 17,
     "metadata": {},
     "output_type": "execute_result"
    }
   ],
   "source": [
    "predicted.shape"
   ]
  },
  {
   "cell_type": "code",
   "execution_count": 18,
   "metadata": {},
   "outputs": [],
   "source": [
    "X_inverse = []\n",
    "inverse_y_test=[]\n",
    "inverse_predicted=[]\n",
    "i=0\n",
    "for w in data_test:\n",
    "    if i>362:\n",
    "        break\n",
    "    sc.fit(w)\n",
    "    inverse_y_test.append(sc.inverse_transform(y_test[i,:,:]))\n",
    "    inverse_predicted.append(sc.inverse_transform(predicted[i,:,:]))\n",
    "    i+=1\n",
    "inverse_y_test=np.array(inverse_y_test)\n",
    "inverse_predicted=np.array(inverse_predicted)"
   ]
  },
  {
   "cell_type": "markdown",
   "metadata": {},
   "source": [
    "# Plot the Results "
   ]
  },
  {
   "cell_type": "code",
   "execution_count": 19,
   "metadata": {},
   "outputs": [
    {
     "data": {
      "text/plain": [
       "[<matplotlib.lines.Line2D at 0xffed6a0>]"
      ]
     },
     "execution_count": 19,
     "metadata": {},
     "output_type": "execute_result"
    },
    {
     "data": {
      "image/png": "[encoded data removed]",
      "text/plain": [
       "<Figure size 432x288 with 1 Axes>"
      ]
     },
     "metadata": {
      "needs_background": "light"
     },
     "output_type": "display_data"
    }
   ],
   "source": [
    "plt.plot(inverse_y_test[:,0,3],color = 'red')\n",
    "plt.plot(inverse_predicted[:,0,3],color = 'black')"
   ]
  },
  {
   "cell_type": "markdown",
   "metadata": {},
   "source": [
    "# Indicators"
   ]
  },
  {
   "cell_type": "markdown",
   "metadata": {},
   "source": [
    "### MAE"
   ]
  },
  {
   "cell_type": "code",
   "execution_count": 20,
   "metadata": {},
   "outputs": [
    {
     "data": {
      "text/plain": [
       "0.9634374578882289"
      ]
     },
     "execution_count": 20,
     "metadata": {},
     "output_type": "execute_result"
    }
   ],
   "source": [
    "N = 362\n",
    "a = abs(inverse_y_test[:,0,3]-inverse_predicted[:,0,3]) #close s&p500\n",
    "MAE = a[0]\n",
    "for i in range(1,362):\n",
    "    MAE = a[i] + MAE\n",
    "MAE = MAE/N\n",
    "MAE  "
   ]
  },
  {
   "cell_type": "markdown",
   "metadata": {},
   "source": [
    "### RMSE"
   ]
  },
  {
   "cell_type": "code",
   "execution_count": 21,
   "metadata": {},
   "outputs": [
    {
     "data": {
      "text/plain": [
       "1.250965130997289"
      ]
     },
     "execution_count": 21,
     "metadata": {},
     "output_type": "execute_result"
    }
   ],
   "source": [
    "RMSE = a[0]**2\n",
    "for i in range(1,362):\n",
    "    RMSE = a[i]**2 + RMSE\n",
    "RMSE = RMSE/N\n",
    "math.sqrt(RMSE)"
   ]
  },
  {
   "cell_type": "markdown",
   "metadata": {},
   "source": [
    "### MAPE"
   ]
  },
  {
   "cell_type": "code",
   "execution_count": 22,
   "metadata": {},
   "outputs": [
    {
     "data": {
      "text/plain": [
       "0.012116216420593138"
      ]
     },
     "execution_count": 22,
     "metadata": {},
     "output_type": "execute_result"
    }
   ],
   "source": [
    "MAPE = a[0]/inverse_y_test[:,0,3][0]\n",
    "for i in range(0,362):\n",
    "    MAPE = MAPE + a[i]/inverse_y_test[:,0,3][i]\n",
    "MAPE = MAPE/N \n",
    "MAPE"
   ]
  },
  {
   "cell_type": "markdown",
   "metadata": {},
   "source": [
    "### AR"
   ]
  },
  {
   "cell_type": "code",
   "execution_count": 23,
   "metadata": {},
   "outputs": [
    {
     "data": {
      "text/plain": [
       "-0.0024343886513238126"
      ]
     },
     "execution_count": 23,
     "metadata": {},
     "output_type": "execute_result"
    }
   ],
   "source": [
    "for i in range(1,362):\n",
    "    if inverse_predicted[:,0,3][i+1] > inverse_predicted[:,0,3][i]:\n",
    "        AR = inverse_y_test[:,0,3][1]-inverse_y_test[:,0,3][0]\n",
    "        AR = AR + (inverse_y_test[:,0,3][i+1]-inverse_y_test[:,0,3][i])\n",
    "        AR = AR/(N-1)\n",
    "AR"
   ]
  },
  {
   "cell_type": "code",
   "execution_count": null,
   "metadata": {},
   "outputs": [],
   "source": []
  },
  {
   "cell_type": "code",
   "execution_count": null,
   "metadata": {},
   "outputs": [],
   "source": []
  }
 ],
 "metadata": {
  "kernelspec": {
   "display_name": "Python 3",
   "language": "python",
   "name": "python3"
  },
  "language_info": {
   "codemirror_mode": {
    "name": "ipython",
    "version": 3
   },
   "file_extension": ".py",
   "mimetype": "text/x-python",
   "name": "python",
   "nbconvert_exporter": "python",
   "pygments_lexer": "ipython3",
   "version": "3.7.3"
  }
 },
 "nbformat": 4,
 "nbformat_minor": 2
}
