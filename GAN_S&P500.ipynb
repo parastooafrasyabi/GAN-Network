{
 "cells": [
  {
   "cell_type": "markdown",
   "metadata": {},
   "source": [
    "# Import libraries"
   ]
  },
  {
   "cell_type": "code",
   "execution_count": 2,
   "metadata": {},
   "outputs": [
    {
     "name": "stderr",
     "output_type": "stream",
     "text": [
      "Using TensorFlow backend.\n"
     ]
    }
   ],
   "source": [
    "import numpy as np                 # Scientific Computation\n",
    "import pandas as pd                # Loading and Manipulating Datasets\n",
    "import matplotlib.pyplot as plt    # Plotting Graphs\n",
    "import math\n",
    "from keras.models import Sequential, Model\n",
    "from keras.layers import Input, Dense, LSTM, Activation\n",
    "from keras.layers.advanced_activations import LeakyReLU\n",
    "from keras.optimizers import Adam\n",
    "from keras.models import Model\n",
    "from keras.layers import concatenate\n",
    "from keras.layers import Reshape\n",
    "from keras.layers.core import RepeatVector\n",
    "from sklearn.preprocessing import StandardScaler"
   ]
  },
  {
   "cell_type": "markdown",
   "metadata": {},
   "source": [
    "# Import Train Data and Preprocessing"
   ]
  },
  {
   "cell_type": "code",
   "execution_count": 9,
   "metadata": {},
   "outputs": [
    {
     "data": {
      "text/plain": [
       "(4300, 6)"
      ]
     },
     "execution_count": 9,
     "metadata": {},
     "output_type": "execute_result"
    }
   ],
   "source": [
    "dataset = pd.read_csv('S&P500_train.csv')\n",
    "dataset_train = dataset.iloc[:,1:7].values\n",
    "dataset_train.shape"
   ]
  },
  {
   "cell_type": "code",
   "execution_count": 10,
   "metadata": {},
   "outputs": [
    {
     "data": {
      "text/plain": [
       "(4296, 5, 6)"
      ]
     },
     "execution_count": 10,
     "metadata": {},
     "output_type": "execute_result"
    }
   ],
   "source": [
    "sc = StandardScaler()\n",
    "data_train=[]\n",
    "for i in range(5,4300+1):\n",
    "    data_train.append(dataset_train[i-5:i,:])       \n",
    "\n",
    "data_train_scaled = []\n",
    "for w in data_train:\n",
    "    norm_win = sc.fit_transform(w)\n",
    "    data_train_scaled.append(norm_win)\n",
    "data_train_scaled = np.array(data_train_scaled)\n",
    "data_train_scaled.shape"
   ]
  },
  {
   "cell_type": "markdown",
   "metadata": {},
   "source": [
    "## Train data"
   ]
  },
  {
   "cell_type": "code",
   "execution_count": 11,
   "metadata": {},
   "outputs": [
    {
     "name": "stdout",
     "output_type": "stream",
     "text": [
      "(4295, 5, 6)\n",
      "(4295, 6)\n"
     ]
    }
   ],
   "source": [
    "x_train = data_train_scaled[0:4295,:,:]\n",
    "y_train = data_train_scaled[1:4296,4,:]\n",
    "print(x_train.shape)\n",
    "print(y_train.shape)"
   ]
  },
  {
   "cell_type": "code",
   "execution_count": 22,
   "metadata": {},
   "outputs": [
    {
     "name": "stdout",
     "output_type": "stream",
     "text": [
      "(4295, 5, 6)\n",
      "(4295, 1, 6)\n"
     ]
    }
   ],
   "source": [
    "y_train=np.expand_dims(y_train, axis=1)\n",
    "print(x_train.shape)\n",
    "print(y_train.shape)"
   ]
  },
  {
   "cell_type": "markdown",
   "metadata": {},
   "source": [
    "# Model Parameters"
   ]
  },
  {
   "cell_type": "code",
   "execution_count": 14,
   "metadata": {},
   "outputs": [],
   "source": [
    "feature_size=6\n",
    "step_time=5\n",
    "gan_input_dim=(step_time,feature_size)"
   ]
  },
  {
   "cell_type": "markdown",
   "metadata": {},
   "source": [
    "# Create GAN"
   ]
  },
  {
   "cell_type": "markdown",
   "metadata": {},
   "source": [
    "### Optimizer"
   ]
  },
  {
   "cell_type": "code",
   "execution_count": 12,
   "metadata": {},
   "outputs": [],
   "source": [
    "def get_optimizer():\n",
    "    return Adam(lr = 0.01, beta_1 = 0.5) "
   ]
  },
  {
   "cell_type": "markdown",
   "metadata": {},
   "source": [
    "### Discriminator"
   ]
  },
  {
   "cell_type": "code",
   "execution_count": 8,
   "metadata": {},
   "outputs": [],
   "source": [
    "def get_discriminator(optimizer,step_time,feature_size):\n",
    "    discriminator = Sequential()\n",
    "    discriminator.add(Dense(units = 72,input_dim=(step_time+1)*feature_size))\n",
    "    discriminator.add(LeakyReLU(alpha = 0.2))\n",
    "    discriminator.add(Dense(units = 100))\n",
    "    discriminator.add(LeakyReLU(alpha = 0.2))\n",
    "    discriminator.add(Dense(units = 10))\n",
    "    discriminator.add(LeakyReLU(alpha = 0.2))\n",
    "    discriminator.add(Dense(units = 1,activation = 'sigmoid'))\n",
    "    discriminator.compile(loss ='binary_crossentropy', optimizer = optimizer)\n",
    "    return discriminator"
   ]
  },
  {
   "cell_type": "markdown",
   "metadata": {},
   "source": [
    "### Generator"
   ]
  },
  {
   "cell_type": "code",
   "execution_count": 9,
   "metadata": {},
   "outputs": [],
   "source": [
    "def get_generator(optimizer,feature_size):\n",
    "    generator = Sequential()\n",
    "    generator.add(LSTM(units = 10, return_sequences = False, input_shape = (x_train.shape[1], feature_size)))\n",
    "    generator.add(Dense(units = feature_size))\n",
    "    generator.add(LeakyReLU(alpha = 0.2))\n",
    "    generator.add(RepeatVector(1))\n",
    "    generator.compile(loss ='mse', optimizer = optimizer)\n",
    "    return generator"
   ]
  },
  {
   "cell_type": "markdown",
   "metadata": {},
   "source": [
    "### GAN"
   ]
  },
  {
   "cell_type": "code",
   "execution_count": 10,
   "metadata": {},
   "outputs": [],
   "source": [
    "def get_gan_network(discriminator, gan_input_dim, generator, optimizer):\n",
    "    # We initially set trainable to False since we only want to train either the generator or discriminator at a time\n",
    "    discriminator.trainable = False\n",
    "    \n",
    "    gan_input = Input(shape=gan_input_dim)\n",
    "    x = generator(gan_input)\n",
    "    # Concatenate the output of the generator with real data\n",
    "    val=concatenate(inputs=[gan_input,x],axis=1)\n",
    "    R=Reshape((36,))(val)\n",
    "    gan_output = discriminator(R)\n",
    "    \n",
    "    gan = Model(inputs = gan_input, outputs = gan_output)\n",
    "    gan.compile(loss ='binary_crossentropy', optimizer = optimizer)\n",
    "    return gan"
   ]
  },
  {
   "cell_type": "markdown",
   "metadata": {},
   "source": [
    "## My own loss"
   ]
  },
  {
   "cell_type": "code",
   "execution_count": 28,
   "metadata": {},
   "outputs": [
    {
     "name": "stdout",
     "output_type": "stream",
     "text": [
      "Epoch 1/10\n",
      "4295/4295 [==============================] - 6s 1ms/step - loss: 1.0131 - acc: 0.4293\n",
      "Epoch 2/10\n",
      "4295/4295 [==============================] - 4s 1ms/step - loss: 0.8293 - acc: 0.4643\n",
      "Epoch 3/10\n",
      "4295/4295 [==============================] - 4s 1ms/step - loss: 0.7736 - acc: 0.4603\n",
      "Epoch 4/10\n",
      "4295/4295 [==============================] - 4s 1ms/step - loss: 0.7463 - acc: 0.4603\n",
      "Epoch 5/10\n",
      "4295/4295 [==============================] - 4s 1ms/step - loss: 0.7328 - acc: 0.4610\n",
      "Epoch 6/10\n",
      "4295/4295 [==============================] - 4s 1ms/step - loss: 0.7266 - acc: 0.4631\n",
      "Epoch 7/10\n",
      "4295/4295 [==============================] - 4s 1ms/step - loss: 0.7227 - acc: 0.4654\n",
      "Epoch 8/10\n",
      "4295/4295 [==============================] - 5s 1ms/step - loss: 0.7183 - acc: 0.4643\n",
      "Epoch 9/10\n",
      "4295/4295 [==============================] - 4s 1ms/step - loss: 0.7158 - acc: 0.4587\n",
      "Epoch 10/10\n",
      "4295/4295 [==============================] - 5s 1ms/step - loss: 0.7139 - acc: 0.4596\n"
     ]
    },
    {
     "data": {
      "text/plain": [
       "[<matplotlib.lines.Line2D at 0x1dbce160>]"
      ]
     },
     "execution_count": 28,
     "metadata": {},
     "output_type": "execute_result"
    },
    {
     "data": {
      "image/png": "[encoded data removed]",
      "text/plain": [
       "<Figure size 432x288 with 1 Axes>"
      ]
     },
     "metadata": {
      "needs_background": "light"
     },
     "output_type": "display_data"
    }
   ],
   "source": [
    "# Build a model\n",
    "import keras.backend as K\n",
    "# inputs = Input(shape=(128,))\n",
    "# layer1 = Dense(64, activation='relu')(inputs)\n",
    "# layer2 = Dense(64, activation='relu')(layer1)\n",
    "# predictions = Dense(10, activation='softmax')(layer2)\n",
    "# model = Model(inputs=inputs, outputs=predictions)\n",
    "generator = Sequential()\n",
    "generator.add(LSTM(units = 10, return_sequences = False, input_shape = (x_train.shape[1], feature_size)))\n",
    "generator.add(Dense(units = feature_size))\n",
    "generator.add(LeakyReLU(alpha = 0.2))\n",
    "generator.add(RepeatVector(1))\n",
    "\n",
    "# Define custom loss\n",
    "def custom_loss():\n",
    "\n",
    "    # Create a loss function that adds the MSE loss to the mean of all squared activations of a specific layer\n",
    "    def loss(y_true,y_pred):\n",
    "        return 0.5*K.mean(K.square(y_pred - y_true), axis=-1)\n",
    "    \n",
    "   \n",
    "    # Return a function\n",
    "    return loss\n",
    "    \n",
    "# Compile the model\n",
    "generator.compile(optimizer='adam',\n",
    "              loss=custom_loss(), # Call the loss function with the selected layer\n",
    "              metrics=['accuracy'])\n",
    "\n",
    "# train\n",
    "generator.fit(x_train, y_train,batch_size=5, epochs=10)\n",
    "predicted = generator.predict(x_test)\n",
    "plt.plot(y_test[:,0,3],color = 'red')\n",
    "plt.plot(predicted[:,0,3],color = 'black')\n"
   ]
  },
  {
   "cell_type": "code",
   "execution_count": null,
   "metadata": {},
   "outputs": [],
   "source": []
  },
  {
   "cell_type": "code",
   "execution_count": 25,
   "metadata": {},
   "outputs": [
    {
     "data": {
      "text/plain": [
       "(472, 1, 6)"
      ]
     },
     "execution_count": 25,
     "metadata": {},
     "output_type": "execute_result"
    }
   ],
   "source": [
    "y_train.shape\n",
    "predicted.shape"
   ]
  },
  {
   "cell_type": "markdown",
   "metadata": {},
   "source": [
    "# Train GAN"
   ]
  },
  {
   "cell_type": "code",
   "execution_count": 11,
   "metadata": {
    "scrolled": true
   },
   "outputs": [],
   "source": [
    "def train(epochs,step_time,feature_size,gan_input_dim,batch_size=30):\n",
    "    \n",
    "    batch_count = x_train.shape[0] // batch_size\n",
    "    \n",
    "    adam = get_optimizer()\n",
    "    generator = get_generator(adam,feature_size)\n",
    "    discriminator = get_discriminator(adam,step_time,feature_size)\n",
    "    gan = get_gan_network(discriminator, gan_input_dim, generator, adam)\n",
    "    \n",
    "    for e in range(1, epochs+1):\n",
    "        D_loss=[]\n",
    "        G_loss=[]\n",
    "        # Train the Network in Batchs\n",
    "        for i in range (0,batch_count):\n",
    "            X_tr_batch = x_train[i*batch_size:(i+1)*batch_size,:,:]\n",
    "            Y_tr_batch = y_train[i*batch_size:(i+1)*batch_size,:,:]\n",
    "            pred = generator.predict(X_tr_batch)\n",
    "\n",
    "            X_real = np.concatenate((X_tr_batch, Y_tr_batch),axis=1)\n",
    "            X_real = np.reshape(X_real,(-1,36,))\n",
    "            X_fake = np.concatenate((X_tr_batch, pred),axis=1)\n",
    "            X_fake = np.reshape(X_fake,(-1,36,))\n",
    "\n",
    "            fake = np.zeros((batch_size,1))\n",
    "            real = np.ones((batch_size,1))\n",
    "            \n",
    "            # Train discriminator\n",
    "            discriminator.trainable = True\n",
    "    \n",
    "            d_loss_real = discriminator.train_on_batch(X_real, real)\n",
    "\n",
    "            d_loss_fake = discriminator.train_on_batch(X_fake, fake)\n",
    "            d_loss=np.add(d_loss_real,d_loss_fake)\n",
    "            D_loss.append(d_loss)\n",
    "\n",
    "    \n",
    "            # Train generator\n",
    "            discriminator.trainable = False\n",
    "            y_gen = np.zeros((batch_size,1))\n",
    "            g_loss=gan.train_on_batch(X_tr_batch, y_gen)\n",
    "            G_loss.append(g_loss)\n",
    "            # Print the Results\n",
    "            print (\"epoch : %d , batch : %d , D loss : %f , G loss : %f\" % (e,i, d_loss,g_loss))\n",
    "    return gan,generator,discriminator,D_loss,G_loss"
   ]
  },
  {
   "cell_type": "code",
   "execution_count": 12,
   "metadata": {},
   "outputs": [
    {
     "name": "stdout",
     "output_type": "stream",
     "text": [
      "WARNING:tensorflow:From C:\\Users\\Shahpar\\Anaconda3\\lib\\site-packages\\tensorflow\\python\\framework\\op_def_library.py:263: colocate_with (from tensorflow.python.framework.ops) is deprecated and will be removed in a future version.\n",
      "Instructions for updating:\n",
      "Colocations handled automatically by placer.\n",
      "WARNING:tensorflow:From C:\\Users\\Shahpar\\Anaconda3\\lib\\site-packages\\tensorflow\\python\\ops\\math_ops.py:3066: to_int32 (from tensorflow.python.ops.math_ops) is deprecated and will be removed in a future version.\n",
      "Instructions for updating:\n",
      "Use tf.cast instead.\n",
      "epoch : 1 , batch : 0 , D loss : 2.267150 , G loss : 1.020267\n",
      "epoch : 1 , batch : 1 , D loss : 1.430903 , G loss : 0.755049\n",
      "epoch : 1 , batch : 2 , D loss : 1.307129 , G loss : 0.695174\n",
      "epoch : 1 , batch : 3 , D loss : 1.277173 , G loss : 0.678330\n",
      "epoch : 1 , batch : 4 , D loss : 1.101771 , G loss : 0.640757\n",
      "epoch : 1 , batch : 5 , D loss : 1.265862 , G loss : 0.640341\n",
      "epoch : 1 , batch : 6 , D loss : 0.858163 , G loss : 0.567750\n",
      "epoch : 1 , batch : 7 , D loss : 1.015719 , G loss : 0.511858\n",
      "epoch : 1 , batch : 8 , D loss : 0.702815 , G loss : 0.266441\n",
      "epoch : 1 , batch : 9 , D loss : 0.685674 , G loss : 0.178346\n",
      "epoch : 1 , batch : 10 , D loss : 0.333624 , G loss : 0.084091\n",
      "epoch : 1 , batch : 11 , D loss : 0.403166 , G loss : 0.071133\n",
      "epoch : 1 , batch : 12 , D loss : 0.245466 , G loss : 0.018340\n",
      "epoch : 1 , batch : 13 , D loss : 0.629196 , G loss : 0.068684\n",
      "epoch : 1 , batch : 14 , D loss : 0.094921 , G loss : 0.013593\n",
      "epoch : 1 , batch : 15 , D loss : 0.117834 , G loss : 0.009356\n",
      "epoch : 1 , batch : 16 , D loss : 0.023217 , G loss : 0.003392\n",
      "epoch : 1 , batch : 17 , D loss : 0.041792 , G loss : 0.004368\n",
      "epoch : 1 , batch : 18 , D loss : 0.163758 , G loss : 0.006353\n",
      "epoch : 1 , batch : 19 , D loss : 0.008654 , G loss : 0.002460\n",
      "epoch : 1 , batch : 20 , D loss : 0.105098 , G loss : 0.008311\n",
      "epoch : 1 , batch : 21 , D loss : 0.013237 , G loss : 0.001920\n",
      "epoch : 1 , batch : 22 , D loss : 0.046610 , G loss : 0.002766\n",
      "epoch : 1 , batch : 23 , D loss : 0.015586 , G loss : 0.002153\n",
      "epoch : 1 , batch : 24 , D loss : 0.012614 , G loss : 0.001289\n",
      "epoch : 1 , batch : 25 , D loss : 0.000777 , G loss : 0.000300\n",
      "epoch : 1 , batch : 26 , D loss : 0.061583 , G loss : 0.003768\n",
      "epoch : 1 , batch : 27 , D loss : 0.001530 , G loss : 0.000875\n",
      "epoch : 1 , batch : 28 , D loss : 0.004827 , G loss : 0.000496\n",
      "epoch : 1 , batch : 29 , D loss : 0.009055 , G loss : 0.000550\n",
      "epoch : 1 , batch : 30 , D loss : 0.001982 , G loss : 0.000447\n",
      "epoch : 1 , batch : 31 , D loss : 0.002693 , G loss : 0.000384\n",
      "epoch : 1 , batch : 32 , D loss : 0.000455 , G loss : 0.000104\n",
      "epoch : 1 , batch : 33 , D loss : 0.001597 , G loss : 0.000098\n",
      "epoch : 1 , batch : 34 , D loss : 0.089879 , G loss : 0.001146\n",
      "epoch : 1 , batch : 35 , D loss : 0.007574 , G loss : 0.000539\n",
      "epoch : 1 , batch : 36 , D loss : 0.003420 , G loss : 0.000131\n",
      "epoch : 1 , batch : 37 , D loss : 0.011334 , G loss : 0.000360\n",
      "epoch : 1 , batch : 38 , D loss : 0.001110 , G loss : 0.000552\n",
      "epoch : 1 , batch : 39 , D loss : 0.000327 , G loss : 0.000161\n",
      "epoch : 1 , batch : 40 , D loss : 0.001092 , G loss : 0.000172\n",
      "epoch : 1 , batch : 41 , D loss : 0.000239 , G loss : 0.000134\n",
      "epoch : 1 , batch : 42 , D loss : 0.014912 , G loss : 0.000304\n",
      "epoch : 1 , batch : 43 , D loss : 0.001733 , G loss : 0.000514\n",
      "epoch : 1 , batch : 44 , D loss : 0.000458 , G loss : 0.000247\n",
      "epoch : 1 , batch : 45 , D loss : 0.001624 , G loss : 0.000233\n",
      "epoch : 1 , batch : 46 , D loss : 0.000414 , G loss : 0.000254\n",
      "epoch : 1 , batch : 47 , D loss : 0.000770 , G loss : 0.000258\n",
      "epoch : 1 , batch : 48 , D loss : 0.000433 , G loss : 0.000114\n",
      "epoch : 1 , batch : 49 , D loss : 0.002281 , G loss : 0.000152\n",
      "epoch : 1 , batch : 50 , D loss : 0.000315 , G loss : 0.000093\n",
      "epoch : 1 , batch : 51 , D loss : 0.000264 , G loss : 0.000083\n",
      "epoch : 1 , batch : 52 , D loss : 0.000083 , G loss : 0.000064\n",
      "epoch : 1 , batch : 53 , D loss : 0.001400 , G loss : 0.000081\n",
      "epoch : 1 , batch : 54 , D loss : 0.000333 , G loss : 0.000075\n",
      "epoch : 1 , batch : 55 , D loss : 0.000127 , G loss : 0.000075\n",
      "epoch : 1 , batch : 56 , D loss : 0.000110 , G loss : 0.000060\n",
      "epoch : 1 , batch : 57 , D loss : 0.000106 , G loss : 0.000067\n",
      "epoch : 1 , batch : 58 , D loss : 0.000262 , G loss : 0.000042\n",
      "epoch : 1 , batch : 59 , D loss : 0.000850 , G loss : 0.000049\n",
      "epoch : 1 , batch : 60 , D loss : 0.000069 , G loss : 0.000052\n",
      "epoch : 1 , batch : 61 , D loss : 0.000254 , G loss : 0.000040\n",
      "epoch : 1 , batch : 62 , D loss : 0.000227 , G loss : 0.000040\n",
      "epoch : 1 , batch : 63 , D loss : 0.000197 , G loss : 0.000041\n",
      "epoch : 1 , batch : 64 , D loss : 0.000095 , G loss : 0.000044\n",
      "epoch : 1 , batch : 65 , D loss : 0.001784 , G loss : 0.000043\n",
      "epoch : 1 , batch : 66 , D loss : 0.004167 , G loss : 0.000168\n",
      "epoch : 1 , batch : 67 , D loss : 0.000102 , G loss : 0.000097\n",
      "epoch : 1 , batch : 68 , D loss : 0.000302 , G loss : 0.000181\n",
      "epoch : 1 , batch : 69 , D loss : 0.000128 , G loss : 0.000094\n",
      "epoch : 1 , batch : 70 , D loss : 0.000093 , G loss : 0.000076\n",
      "epoch : 1 , batch : 71 , D loss : 0.002002 , G loss : 0.000113\n",
      "epoch : 1 , batch : 72 , D loss : 0.000598 , G loss : 0.000223\n",
      "epoch : 1 , batch : 73 , D loss : 0.000051 , G loss : 0.000041\n",
      "epoch : 1 , batch : 74 , D loss : 0.000092 , G loss : 0.000070\n",
      "epoch : 1 , batch : 75 , D loss : 0.000091 , G loss : 0.000048\n",
      "epoch : 1 , batch : 76 , D loss : 0.000068 , G loss : 0.000046\n",
      "epoch : 1 , batch : 77 , D loss : 0.000082 , G loss : 0.000057\n",
      "epoch : 1 , batch : 78 , D loss : 0.000077 , G loss : 0.000025\n",
      "epoch : 1 , batch : 79 , D loss : 0.000138 , G loss : 0.000037\n",
      "epoch : 1 , batch : 80 , D loss : 0.000126 , G loss : 0.000026\n",
      "epoch : 1 , batch : 81 , D loss : 0.000058 , G loss : 0.000035\n",
      "epoch : 1 , batch : 82 , D loss : 0.000151 , G loss : 0.000033\n",
      "epoch : 1 , batch : 83 , D loss : 0.000089 , G loss : 0.000024\n",
      "epoch : 1 , batch : 84 , D loss : 0.000049 , G loss : 0.000020\n",
      "epoch : 1 , batch : 85 , D loss : 0.000079 , G loss : 0.000031\n",
      "epoch : 1 , batch : 86 , D loss : 0.000865 , G loss : 0.000021\n",
      "epoch : 1 , batch : 87 , D loss : 0.000746 , G loss : 0.000027\n",
      "epoch : 1 , batch : 88 , D loss : 0.000071 , G loss : 0.000037\n",
      "epoch : 1 , batch : 89 , D loss : 0.000051 , G loss : 0.000027\n",
      "epoch : 1 , batch : 90 , D loss : 0.000099 , G loss : 0.000033\n",
      "epoch : 1 , batch : 91 , D loss : 0.000041 , G loss : 0.000022\n",
      "epoch : 1 , batch : 92 , D loss : 0.000038 , G loss : 0.000023\n",
      "epoch : 1 , batch : 93 , D loss : 0.000036 , G loss : 0.000020\n",
      "epoch : 1 , batch : 94 , D loss : 0.000031 , G loss : 0.000020\n",
      "epoch : 1 , batch : 95 , D loss : 0.000665 , G loss : 0.000017\n",
      "epoch : 1 , batch : 96 , D loss : 0.000036 , G loss : 0.000019\n",
      "epoch : 1 , batch : 97 , D loss : 0.000083 , G loss : 0.000023\n",
      "epoch : 1 , batch : 98 , D loss : 0.000103 , G loss : 0.000019\n",
      "epoch : 1 , batch : 99 , D loss : 0.000032 , G loss : 0.000021\n",
      "epoch : 1 , batch : 100 , D loss : 0.000047 , G loss : 0.000023\n",
      "epoch : 1 , batch : 101 , D loss : 0.000046 , G loss : 0.000024\n",
      "epoch : 1 , batch : 102 , D loss : 0.000032 , G loss : 0.000019\n",
      "epoch : 1 , batch : 103 , D loss : 0.000048 , G loss : 0.000017\n",
      "epoch : 1 , batch : 104 , D loss : 0.000056 , G loss : 0.000019\n",
      "epoch : 1 , batch : 105 , D loss : 0.000017 , G loss : 0.000016\n",
      "epoch : 1 , batch : 106 , D loss : 0.000568 , G loss : 0.000019\n",
      "epoch : 1 , batch : 107 , D loss : 0.000055 , G loss : 0.000034\n",
      "epoch : 1 , batch : 108 , D loss : 0.000044 , G loss : 0.000029\n",
      "epoch : 1 , batch : 109 , D loss : 0.000071 , G loss : 0.000022\n",
      "epoch : 1 , batch : 110 , D loss : 0.000073 , G loss : 0.000034\n",
      "epoch : 1 , batch : 111 , D loss : 0.000033 , G loss : 0.000019\n",
      "epoch : 1 , batch : 112 , D loss : 0.000021 , G loss : 0.000013\n",
      "epoch : 1 , batch : 113 , D loss : 0.000322 , G loss : 0.000024\n",
      "epoch : 1 , batch : 114 , D loss : 0.000049 , G loss : 0.000017\n",
      "epoch : 1 , batch : 115 , D loss : 0.000078 , G loss : 0.000032\n",
      "epoch : 1 , batch : 116 , D loss : 0.000022 , G loss : 0.000018\n",
      "epoch : 1 , batch : 117 , D loss : 0.000061 , G loss : 0.000021\n",
      "epoch : 1 , batch : 118 , D loss : 0.000029 , G loss : 0.000026\n",
      "epoch : 1 , batch : 119 , D loss : 0.000073 , G loss : 0.000019\n",
      "epoch : 1 , batch : 120 , D loss : 0.000013 , G loss : 0.000011\n"
     ]
    },
    {
     "name": "stdout",
     "output_type": "stream",
     "text": [
      "epoch : 1 , batch : 121 , D loss : 0.000013 , G loss : 0.000009\n",
      "epoch : 1 , batch : 122 , D loss : 0.000015 , G loss : 0.000011\n",
      "epoch : 1 , batch : 123 , D loss : 0.000016 , G loss : 0.000014\n",
      "epoch : 1 , batch : 124 , D loss : 0.000035 , G loss : 0.000010\n",
      "epoch : 1 , batch : 125 , D loss : 0.000033 , G loss : 0.000012\n",
      "epoch : 1 , batch : 126 , D loss : 0.000035 , G loss : 0.000014\n",
      "epoch : 1 , batch : 127 , D loss : 0.000014 , G loss : 0.000007\n",
      "epoch : 1 , batch : 128 , D loss : 0.000140 , G loss : 0.000014\n",
      "epoch : 1 , batch : 129 , D loss : 0.000042 , G loss : 0.000007\n",
      "epoch : 1 , batch : 130 , D loss : 0.000022 , G loss : 0.000015\n",
      "epoch : 1 , batch : 131 , D loss : 0.000012 , G loss : 0.000010\n",
      "epoch : 1 , batch : 132 , D loss : 0.000017 , G loss : 0.000008\n",
      "epoch : 1 , batch : 133 , D loss : 0.000068 , G loss : 0.000010\n",
      "epoch : 1 , batch : 134 , D loss : 0.000028 , G loss : 0.000009\n",
      "epoch : 1 , batch : 135 , D loss : 0.000024 , G loss : 0.000010\n",
      "epoch : 1 , batch : 136 , D loss : 0.000018 , G loss : 0.000008\n",
      "epoch : 1 , batch : 137 , D loss : 0.000083 , G loss : 0.000011\n",
      "epoch : 1 , batch : 138 , D loss : 0.000026 , G loss : 0.000008\n",
      "epoch : 1 , batch : 139 , D loss : 0.000590 , G loss : 0.000011\n",
      "epoch : 1 , batch : 140 , D loss : 0.000037 , G loss : 0.000008\n",
      "epoch : 1 , batch : 141 , D loss : 0.000013 , G loss : 0.000006\n",
      "epoch : 1 , batch : 142 , D loss : 0.000017 , G loss : 0.000008\n",
      "epoch : 2 , batch : 0 , D loss : 0.000028 , G loss : 0.000008\n",
      "epoch : 2 , batch : 1 , D loss : 0.000009 , G loss : 0.000007\n",
      "epoch : 2 , batch : 2 , D loss : 0.000008 , G loss : 0.000006\n",
      "epoch : 2 , batch : 3 , D loss : 0.000015 , G loss : 0.000006\n",
      "epoch : 2 , batch : 4 , D loss : 0.000027 , G loss : 0.000006\n",
      "epoch : 2 , batch : 5 , D loss : 0.000028 , G loss : 0.000007\n",
      "epoch : 2 , batch : 6 , D loss : 0.000012 , G loss : 0.000007\n",
      "epoch : 2 , batch : 7 , D loss : 0.000012 , G loss : 0.000006\n",
      "epoch : 2 , batch : 8 , D loss : 0.000015 , G loss : 0.000007\n",
      "epoch : 2 , batch : 9 , D loss : 0.000013 , G loss : 0.000007\n",
      "epoch : 2 , batch : 10 , D loss : 0.000007 , G loss : 0.000005\n",
      "epoch : 2 , batch : 11 , D loss : 0.000020 , G loss : 0.000006\n",
      "epoch : 2 , batch : 12 , D loss : 0.000016 , G loss : 0.000009\n",
      "epoch : 2 , batch : 13 , D loss : 0.000033 , G loss : 0.000006\n",
      "epoch : 2 , batch : 14 , D loss : 0.000010 , G loss : 0.000007\n",
      "epoch : 2 , batch : 15 , D loss : 0.000009 , G loss : 0.000007\n",
      "epoch : 2 , batch : 16 , D loss : 0.000007 , G loss : 0.000006\n",
      "epoch : 2 , batch : 17 , D loss : 0.000006 , G loss : 0.000005\n",
      "epoch : 2 , batch : 18 , D loss : 0.000224 , G loss : 0.000004\n",
      "epoch : 2 , batch : 19 , D loss : 0.000007 , G loss : 0.000006\n",
      "epoch : 2 , batch : 20 , D loss : 0.000024 , G loss : 0.000006\n",
      "epoch : 2 , batch : 21 , D loss : 0.000045 , G loss : 0.000005\n",
      "epoch : 2 , batch : 22 , D loss : 0.000120 , G loss : 0.000005\n",
      "epoch : 2 , batch : 23 , D loss : 0.000006 , G loss : 0.000005\n",
      "epoch : 2 , batch : 24 , D loss : 0.000037 , G loss : 0.000006\n",
      "epoch : 2 , batch : 25 , D loss : 0.000005 , G loss : 0.000005\n",
      "epoch : 2 , batch : 26 , D loss : 0.000044 , G loss : 0.000011\n",
      "epoch : 2 , batch : 27 , D loss : 0.000009 , G loss : 0.000005\n",
      "epoch : 2 , batch : 28 , D loss : 0.000016 , G loss : 0.000004\n",
      "epoch : 2 , batch : 29 , D loss : 0.000031 , G loss : 0.000007\n",
      "epoch : 2 , batch : 30 , D loss : 0.000015 , G loss : 0.000004\n",
      "epoch : 2 , batch : 31 , D loss : 0.000030 , G loss : 0.000010\n",
      "epoch : 2 , batch : 32 , D loss : 0.000005 , G loss : 0.000005\n",
      "epoch : 2 , batch : 33 , D loss : 0.000017 , G loss : 0.000007\n",
      "epoch : 2 , batch : 34 , D loss : 0.000023 , G loss : 0.000005\n",
      "epoch : 2 , batch : 35 , D loss : 0.000034 , G loss : 0.000004\n",
      "epoch : 2 , batch : 36 , D loss : 0.000041 , G loss : 0.000003\n",
      "epoch : 2 , batch : 37 , D loss : 0.000026 , G loss : 0.000004\n",
      "epoch : 2 , batch : 38 , D loss : 0.000010 , G loss : 0.000009\n",
      "epoch : 2 , batch : 39 , D loss : 0.000005 , G loss : 0.000004\n",
      "epoch : 2 , batch : 40 , D loss : 0.000017 , G loss : 0.000005\n",
      "epoch : 2 , batch : 41 , D loss : 0.000006 , G loss : 0.000004\n",
      "epoch : 2 , batch : 42 , D loss : 0.000072 , G loss : 0.000003\n",
      "epoch : 2 , batch : 43 , D loss : 0.000027 , G loss : 0.000004\n",
      "epoch : 2 , batch : 44 , D loss : 0.000025 , G loss : 0.000004\n",
      "epoch : 2 , batch : 45 , D loss : 0.000025 , G loss : 0.000003\n",
      "epoch : 2 , batch : 46 , D loss : 0.000007 , G loss : 0.000004\n",
      "epoch : 2 , batch : 47 , D loss : 0.000050 , G loss : 0.000005\n",
      "epoch : 2 , batch : 48 , D loss : 0.000024 , G loss : 0.000004\n",
      "epoch : 2 , batch : 49 , D loss : 0.000226 , G loss : 0.000006\n",
      "epoch : 2 , batch : 50 , D loss : 0.000015 , G loss : 0.000005\n",
      "epoch : 2 , batch : 51 , D loss : 0.000015 , G loss : 0.000004\n",
      "epoch : 2 , batch : 52 , D loss : 0.000004 , G loss : 0.000004\n",
      "epoch : 2 , batch : 53 , D loss : 0.000094 , G loss : 0.000004\n",
      "epoch : 2 , batch : 54 , D loss : 0.000023 , G loss : 0.000005\n",
      "epoch : 2 , batch : 55 , D loss : 0.000009 , G loss : 0.000005\n",
      "epoch : 2 , batch : 56 , D loss : 0.000015 , G loss : 0.000005\n",
      "epoch : 2 , batch : 57 , D loss : 0.000007 , G loss : 0.000005\n",
      "epoch : 2 , batch : 58 , D loss : 0.000037 , G loss : 0.000004\n",
      "epoch : 2 , batch : 59 , D loss : 0.000013 , G loss : 0.000005\n",
      "epoch : 2 , batch : 60 , D loss : 0.000006 , G loss : 0.000004\n",
      "epoch : 2 , batch : 61 , D loss : 0.000014 , G loss : 0.000004\n",
      "epoch : 2 , batch : 62 , D loss : 0.000010 , G loss : 0.000004\n",
      "epoch : 2 , batch : 63 , D loss : 0.000010 , G loss : 0.000004\n",
      "epoch : 2 , batch : 64 , D loss : 0.000008 , G loss : 0.000005\n",
      "epoch : 2 , batch : 65 , D loss : 0.000028 , G loss : 0.000003\n",
      "epoch : 2 , batch : 66 , D loss : 0.000128 , G loss : 0.000004\n",
      "epoch : 2 , batch : 67 , D loss : 0.000003 , G loss : 0.000003\n",
      "epoch : 2 , batch : 68 , D loss : 0.000009 , G loss : 0.000005\n",
      "epoch : 2 , batch : 69 , D loss : 0.000007 , G loss : 0.000004\n",
      "epoch : 2 , batch : 70 , D loss : 0.000004 , G loss : 0.000003\n",
      "epoch : 2 , batch : 71 , D loss : 0.000035 , G loss : 0.000003\n",
      "epoch : 2 , batch : 72 , D loss : 0.000037 , G loss : 0.000006\n",
      "epoch : 2 , batch : 73 , D loss : 0.000003 , G loss : 0.000003\n",
      "epoch : 2 , batch : 74 , D loss : 0.000007 , G loss : 0.000005\n",
      "epoch : 2 , batch : 75 , D loss : 0.000010 , G loss : 0.000004\n",
      "epoch : 2 , batch : 76 , D loss : 0.000008 , G loss : 0.000005\n",
      "epoch : 2 , batch : 77 , D loss : 0.000011 , G loss : 0.000006\n",
      "epoch : 2 , batch : 78 , D loss : 0.000019 , G loss : 0.000002\n",
      "epoch : 2 , batch : 79 , D loss : 0.000023 , G loss : 0.000004\n",
      "epoch : 2 , batch : 80 , D loss : 0.000013 , G loss : 0.000003\n",
      "epoch : 2 , batch : 81 , D loss : 0.000008 , G loss : 0.000004\n",
      "epoch : 2 , batch : 82 , D loss : 0.000021 , G loss : 0.000004\n",
      "epoch : 2 , batch : 83 , D loss : 0.000013 , G loss : 0.000004\n",
      "epoch : 2 , batch : 84 , D loss : 0.000006 , G loss : 0.000003\n",
      "epoch : 2 , batch : 85 , D loss : 0.000009 , G loss : 0.000004\n",
      "epoch : 2 , batch : 86 , D loss : 0.000086 , G loss : 0.000002\n",
      "epoch : 2 , batch : 87 , D loss : 0.000108 , G loss : 0.000003\n",
      "epoch : 2 , batch : 88 , D loss : 0.000010 , G loss : 0.000004\n",
      "epoch : 2 , batch : 89 , D loss : 0.000008 , G loss : 0.000003\n",
      "epoch : 2 , batch : 90 , D loss : 0.000027 , G loss : 0.000004\n",
      "epoch : 2 , batch : 91 , D loss : 0.000009 , G loss : 0.000003\n",
      "epoch : 2 , batch : 92 , D loss : 0.000007 , G loss : 0.000003\n",
      "epoch : 2 , batch : 93 , D loss : 0.000005 , G loss : 0.000003\n",
      "epoch : 2 , batch : 94 , D loss : 0.000005 , G loss : 0.000003\n",
      "epoch : 2 , batch : 95 , D loss : 0.000040 , G loss : 0.000002\n",
      "epoch : 2 , batch : 96 , D loss : 0.000008 , G loss : 0.000002\n",
      "epoch : 2 , batch : 97 , D loss : 0.000012 , G loss : 0.000002\n",
      "epoch : 2 , batch : 98 , D loss : 0.000028 , G loss : 0.000002\n",
      "epoch : 2 , batch : 99 , D loss : 0.000007 , G loss : 0.000003\n",
      "epoch : 2 , batch : 100 , D loss : 0.000010 , G loss : 0.000003\n",
      "epoch : 2 , batch : 101 , D loss : 0.000011 , G loss : 0.000003\n",
      "epoch : 2 , batch : 102 , D loss : 0.000006 , G loss : 0.000002\n",
      "epoch : 2 , batch : 103 , D loss : 0.000010 , G loss : 0.000002\n",
      "epoch : 2 , batch : 104 , D loss : 0.000013 , G loss : 0.000003\n",
      "epoch : 2 , batch : 105 , D loss : 0.000003 , G loss : 0.000002\n",
      "epoch : 2 , batch : 106 , D loss : 0.000070 , G loss : 0.000003\n",
      "epoch : 2 , batch : 107 , D loss : 0.000010 , G loss : 0.000004\n",
      "epoch : 2 , batch : 108 , D loss : 0.000006 , G loss : 0.000004\n",
      "epoch : 2 , batch : 109 , D loss : 0.000015 , G loss : 0.000003\n",
      "epoch : 2 , batch : 110 , D loss : 0.000028 , G loss : 0.000006\n",
      "epoch : 2 , batch : 111 , D loss : 0.000007 , G loss : 0.000003\n",
      "epoch : 2 , batch : 112 , D loss : 0.000005 , G loss : 0.000002\n",
      "epoch : 2 , batch : 113 , D loss : 0.000070 , G loss : 0.000004\n",
      "epoch : 2 , batch : 114 , D loss : 0.000013 , G loss : 0.000002\n",
      "epoch : 2 , batch : 115 , D loss : 0.000017 , G loss : 0.000005\n",
      "epoch : 2 , batch : 116 , D loss : 0.000004 , G loss : 0.000003\n"
     ]
    },
    {
     "name": "stdout",
     "output_type": "stream",
     "text": [
      "epoch : 2 , batch : 117 , D loss : 0.000019 , G loss : 0.000004\n",
      "epoch : 2 , batch : 118 , D loss : 0.000005 , G loss : 0.000005\n",
      "epoch : 2 , batch : 119 , D loss : 0.000031 , G loss : 0.000004\n",
      "epoch : 2 , batch : 120 , D loss : 0.000003 , G loss : 0.000002\n",
      "epoch : 2 , batch : 121 , D loss : 0.000003 , G loss : 0.000002\n",
      "epoch : 2 , batch : 122 , D loss : 0.000004 , G loss : 0.000002\n",
      "epoch : 2 , batch : 123 , D loss : 0.000004 , G loss : 0.000003\n",
      "epoch : 2 , batch : 124 , D loss : 0.000009 , G loss : 0.000002\n",
      "epoch : 2 , batch : 125 , D loss : 0.000010 , G loss : 0.000003\n",
      "epoch : 2 , batch : 126 , D loss : 0.000011 , G loss : 0.000004\n",
      "epoch : 2 , batch : 127 , D loss : 0.000004 , G loss : 0.000002\n",
      "epoch : 2 , batch : 128 , D loss : 0.000033 , G loss : 0.000003\n",
      "epoch : 2 , batch : 129 , D loss : 0.000006 , G loss : 0.000002\n",
      "epoch : 2 , batch : 130 , D loss : 0.000005 , G loss : 0.000003\n",
      "epoch : 2 , batch : 131 , D loss : 0.000003 , G loss : 0.000003\n",
      "epoch : 2 , batch : 132 , D loss : 0.000005 , G loss : 0.000002\n",
      "epoch : 2 , batch : 133 , D loss : 0.000020 , G loss : 0.000003\n",
      "epoch : 2 , batch : 134 , D loss : 0.000012 , G loss : 0.000003\n",
      "epoch : 2 , batch : 135 , D loss : 0.000008 , G loss : 0.000003\n",
      "epoch : 2 , batch : 136 , D loss : 0.000007 , G loss : 0.000002\n",
      "epoch : 2 , batch : 137 , D loss : 0.000037 , G loss : 0.000003\n",
      "epoch : 2 , batch : 138 , D loss : 0.000007 , G loss : 0.000002\n",
      "epoch : 2 , batch : 139 , D loss : 0.000115 , G loss : 0.000003\n",
      "epoch : 2 , batch : 140 , D loss : 0.000013 , G loss : 0.000002\n",
      "epoch : 2 , batch : 141 , D loss : 0.000005 , G loss : 0.000002\n",
      "epoch : 2 , batch : 142 , D loss : 0.000005 , G loss : 0.000002\n",
      "epoch : 3 , batch : 0 , D loss : 0.000010 , G loss : 0.000002\n",
      "epoch : 3 , batch : 1 , D loss : 0.000003 , G loss : 0.000002\n",
      "epoch : 3 , batch : 2 , D loss : 0.000003 , G loss : 0.000002\n",
      "epoch : 3 , batch : 3 , D loss : 0.000005 , G loss : 0.000002\n",
      "epoch : 3 , batch : 4 , D loss : 0.000010 , G loss : 0.000002\n",
      "epoch : 3 , batch : 5 , D loss : 0.000011 , G loss : 0.000002\n",
      "epoch : 3 , batch : 6 , D loss : 0.000005 , G loss : 0.000002\n",
      "epoch : 3 , batch : 7 , D loss : 0.000005 , G loss : 0.000002\n",
      "epoch : 3 , batch : 8 , D loss : 0.000005 , G loss : 0.000002\n",
      "epoch : 3 , batch : 9 , D loss : 0.000005 , G loss : 0.000002\n",
      "epoch : 3 , batch : 10 , D loss : 0.000003 , G loss : 0.000002\n",
      "epoch : 3 , batch : 11 , D loss : 0.000007 , G loss : 0.000002\n",
      "epoch : 3 , batch : 12 , D loss : 0.000005 , G loss : 0.000003\n",
      "epoch : 3 , batch : 13 , D loss : 0.000010 , G loss : 0.000002\n",
      "epoch : 3 , batch : 14 , D loss : 0.000004 , G loss : 0.000002\n",
      "epoch : 3 , batch : 15 , D loss : 0.000003 , G loss : 0.000002\n",
      "epoch : 3 , batch : 16 , D loss : 0.000002 , G loss : 0.000002\n",
      "epoch : 3 , batch : 17 , D loss : 0.000002 , G loss : 0.000002\n",
      "epoch : 3 , batch : 18 , D loss : 0.000051 , G loss : 0.000001\n",
      "epoch : 3 , batch : 19 , D loss : 0.000003 , G loss : 0.000002\n",
      "epoch : 3 , batch : 20 , D loss : 0.000009 , G loss : 0.000002\n",
      "epoch : 3 , batch : 21 , D loss : 0.000015 , G loss : 0.000002\n",
      "epoch : 3 , batch : 22 , D loss : 0.000039 , G loss : 0.000002\n",
      "epoch : 3 , batch : 23 , D loss : 0.000002 , G loss : 0.000002\n",
      "epoch : 3 , batch : 24 , D loss : 0.000017 , G loss : 0.000002\n",
      "epoch : 3 , batch : 25 , D loss : 0.000002 , G loss : 0.000002\n",
      "epoch : 3 , batch : 26 , D loss : 0.000017 , G loss : 0.000003\n",
      "epoch : 3 , batch : 27 , D loss : 0.000003 , G loss : 0.000002\n",
      "epoch : 3 , batch : 28 , D loss : 0.000006 , G loss : 0.000001\n",
      "epoch : 3 , batch : 29 , D loss : 0.000013 , G loss : 0.000002\n",
      "epoch : 3 , batch : 30 , D loss : 0.000005 , G loss : 0.000001\n",
      "epoch : 3 , batch : 31 , D loss : 0.000011 , G loss : 0.000003\n",
      "epoch : 3 , batch : 32 , D loss : 0.000002 , G loss : 0.000002\n",
      "epoch : 3 , batch : 33 , D loss : 0.000007 , G loss : 0.000002\n",
      "epoch : 3 , batch : 34 , D loss : 0.000010 , G loss : 0.000002\n",
      "epoch : 3 , batch : 35 , D loss : 0.000012 , G loss : 0.000001\n",
      "epoch : 3 , batch : 36 , D loss : 0.000015 , G loss : 0.000001\n",
      "epoch : 3 , batch : 37 , D loss : 0.000010 , G loss : 0.000001\n",
      "epoch : 3 , batch : 38 , D loss : 0.000004 , G loss : 0.000003\n",
      "epoch : 3 , batch : 39 , D loss : 0.000002 , G loss : 0.000001\n",
      "epoch : 3 , batch : 40 , D loss : 0.000007 , G loss : 0.000002\n",
      "epoch : 3 , batch : 41 , D loss : 0.000002 , G loss : 0.000001\n",
      "epoch : 3 , batch : 42 , D loss : 0.000031 , G loss : 0.000001\n",
      "epoch : 3 , batch : 43 , D loss : 0.000011 , G loss : 0.000001\n",
      "epoch : 3 , batch : 44 , D loss : 0.000012 , G loss : 0.000001\n",
      "epoch : 3 , batch : 45 , D loss : 0.000010 , G loss : 0.000001\n",
      "epoch : 3 , batch : 46 , D loss : 0.000003 , G loss : 0.000002\n",
      "epoch : 3 , batch : 47 , D loss : 0.000022 , G loss : 0.000002\n",
      "epoch : 3 , batch : 48 , D loss : 0.000011 , G loss : 0.000001\n",
      "epoch : 3 , batch : 49 , D loss : 0.000124 , G loss : 0.000002\n",
      "epoch : 3 , batch : 50 , D loss : 0.000006 , G loss : 0.000002\n",
      "epoch : 3 , batch : 51 , D loss : 0.000006 , G loss : 0.000002\n",
      "epoch : 3 , batch : 52 , D loss : 0.000002 , G loss : 0.000001\n",
      "epoch : 3 , batch : 53 , D loss : 0.000041 , G loss : 0.000002\n",
      "epoch : 3 , batch : 54 , D loss : 0.000010 , G loss : 0.000002\n",
      "epoch : 3 , batch : 55 , D loss : 0.000004 , G loss : 0.000002\n",
      "epoch : 3 , batch : 56 , D loss : 0.000007 , G loss : 0.000002\n",
      "epoch : 3 , batch : 57 , D loss : 0.000003 , G loss : 0.000002\n",
      "epoch : 3 , batch : 58 , D loss : 0.000018 , G loss : 0.000002\n",
      "epoch : 3 , batch : 59 , D loss : 0.000005 , G loss : 0.000002\n",
      "epoch : 3 , batch : 60 , D loss : 0.000003 , G loss : 0.000002\n",
      "epoch : 3 , batch : 61 , D loss : 0.000005 , G loss : 0.000002\n",
      "epoch : 3 , batch : 62 , D loss : 0.000004 , G loss : 0.000002\n",
      "epoch : 3 , batch : 63 , D loss : 0.000004 , G loss : 0.000002\n",
      "epoch : 3 , batch : 64 , D loss : 0.000004 , G loss : 0.000002\n",
      "epoch : 3 , batch : 65 , D loss : 0.000012 , G loss : 0.000001\n",
      "epoch : 3 , batch : 66 , D loss : 0.000058 , G loss : 0.000002\n",
      "epoch : 3 , batch : 67 , D loss : 0.000001 , G loss : 0.000001\n",
      "epoch : 3 , batch : 68 , D loss : 0.000003 , G loss : 0.000002\n",
      "epoch : 3 , batch : 69 , D loss : 0.000003 , G loss : 0.000002\n",
      "epoch : 3 , batch : 70 , D loss : 0.000002 , G loss : 0.000001\n",
      "epoch : 3 , batch : 71 , D loss : 0.000016 , G loss : 0.000001\n",
      "epoch : 3 , batch : 72 , D loss : 0.000015 , G loss : 0.000002\n",
      "epoch : 3 , batch : 73 , D loss : 0.000002 , G loss : 0.000001\n",
      "epoch : 3 , batch : 74 , D loss : 0.000003 , G loss : 0.000002\n",
      "epoch : 3 , batch : 75 , D loss : 0.000004 , G loss : 0.000002\n",
      "epoch : 3 , batch : 76 , D loss : 0.000004 , G loss : 0.000002\n",
      "epoch : 3 , batch : 77 , D loss : 0.000005 , G loss : 0.000003\n",
      "epoch : 3 , batch : 78 , D loss : 0.000009 , G loss : 0.000001\n",
      "epoch : 3 , batch : 79 , D loss : 0.000010 , G loss : 0.000002\n",
      "epoch : 3 , batch : 80 , D loss : 0.000005 , G loss : 0.000001\n",
      "epoch : 3 , batch : 81 , D loss : 0.000004 , G loss : 0.000002\n",
      "epoch : 3 , batch : 82 , D loss : 0.000009 , G loss : 0.000002\n",
      "epoch : 3 , batch : 83 , D loss : 0.000006 , G loss : 0.000002\n",
      "epoch : 3 , batch : 84 , D loss : 0.000002 , G loss : 0.000002\n",
      "epoch : 3 , batch : 85 , D loss : 0.000004 , G loss : 0.000002\n",
      "epoch : 3 , batch : 86 , D loss : 0.000034 , G loss : 0.000001\n",
      "epoch : 3 , batch : 87 , D loss : 0.000063 , G loss : 0.000001\n",
      "epoch : 3 , batch : 88 , D loss : 0.000004 , G loss : 0.000002\n",
      "epoch : 3 , batch : 89 , D loss : 0.000003 , G loss : 0.000001\n",
      "epoch : 3 , batch : 90 , D loss : 0.000013 , G loss : 0.000002\n",
      "epoch : 3 , batch : 91 , D loss : 0.000004 , G loss : 0.000001\n",
      "epoch : 3 , batch : 92 , D loss : 0.000003 , G loss : 0.000001\n",
      "epoch : 3 , batch : 93 , D loss : 0.000002 , G loss : 0.000001\n",
      "epoch : 3 , batch : 94 , D loss : 0.000002 , G loss : 0.000001\n",
      "epoch : 3 , batch : 95 , D loss : 0.000015 , G loss : 0.000001\n",
      "epoch : 3 , batch : 96 , D loss : 0.000004 , G loss : 0.000001\n",
      "epoch : 3 , batch : 97 , D loss : 0.000005 , G loss : 0.000001\n",
      "epoch : 3 , batch : 98 , D loss : 0.000014 , G loss : 0.000001\n",
      "epoch : 3 , batch : 99 , D loss : 0.000004 , G loss : 0.000001\n",
      "epoch : 3 , batch : 100 , D loss : 0.000005 , G loss : 0.000001\n",
      "epoch : 3 , batch : 101 , D loss : 0.000006 , G loss : 0.000001\n",
      "epoch : 3 , batch : 102 , D loss : 0.000003 , G loss : 0.000001\n",
      "epoch : 3 , batch : 103 , D loss : 0.000004 , G loss : 0.000001\n",
      "epoch : 3 , batch : 104 , D loss : 0.000006 , G loss : 0.000001\n",
      "epoch : 3 , batch : 105 , D loss : 0.000001 , G loss : 0.000001\n",
      "epoch : 3 , batch : 106 , D loss : 0.000031 , G loss : 0.000001\n",
      "epoch : 3 , batch : 107 , D loss : 0.000005 , G loss : 0.000002\n",
      "epoch : 3 , batch : 108 , D loss : 0.000003 , G loss : 0.000002\n",
      "epoch : 3 , batch : 109 , D loss : 0.000007 , G loss : 0.000001\n",
      "epoch : 3 , batch : 110 , D loss : 0.000018 , G loss : 0.000003\n",
      "epoch : 3 , batch : 111 , D loss : 0.000003 , G loss : 0.000002\n",
      "epoch : 3 , batch : 112 , D loss : 0.000003 , G loss : 0.000001\n",
      "epoch : 3 , batch : 113 , D loss : 0.000030 , G loss : 0.000002\n"
     ]
    },
    {
     "name": "stdout",
     "output_type": "stream",
     "text": [
      "epoch : 3 , batch : 114 , D loss : 0.000007 , G loss : 0.000001\n",
      "epoch : 3 , batch : 115 , D loss : 0.000007 , G loss : 0.000002\n",
      "epoch : 3 , batch : 116 , D loss : 0.000002 , G loss : 0.000001\n",
      "epoch : 3 , batch : 117 , D loss : 0.000010 , G loss : 0.000002\n",
      "epoch : 3 , batch : 118 , D loss : 0.000003 , G loss : 0.000002\n",
      "epoch : 3 , batch : 119 , D loss : 0.000018 , G loss : 0.000002\n",
      "epoch : 3 , batch : 120 , D loss : 0.000001 , G loss : 0.000001\n",
      "epoch : 3 , batch : 121 , D loss : 0.000001 , G loss : 0.000001\n",
      "epoch : 3 , batch : 122 , D loss : 0.000002 , G loss : 0.000001\n",
      "epoch : 3 , batch : 123 , D loss : 0.000002 , G loss : 0.000002\n",
      "epoch : 3 , batch : 124 , D loss : 0.000004 , G loss : 0.000001\n",
      "epoch : 3 , batch : 125 , D loss : 0.000005 , G loss : 0.000001\n",
      "epoch : 3 , batch : 126 , D loss : 0.000006 , G loss : 0.000002\n",
      "epoch : 3 , batch : 127 , D loss : 0.000002 , G loss : 0.000001\n",
      "epoch : 3 , batch : 128 , D loss : 0.000014 , G loss : 0.000002\n",
      "epoch : 3 , batch : 129 , D loss : 0.000002 , G loss : 0.000001\n",
      "epoch : 3 , batch : 130 , D loss : 0.000003 , G loss : 0.000002\n",
      "epoch : 3 , batch : 131 , D loss : 0.000002 , G loss : 0.000001\n",
      "epoch : 3 , batch : 132 , D loss : 0.000003 , G loss : 0.000001\n",
      "epoch : 3 , batch : 133 , D loss : 0.000010 , G loss : 0.000001\n",
      "epoch : 3 , batch : 134 , D loss : 0.000007 , G loss : 0.000001\n",
      "epoch : 3 , batch : 135 , D loss : 0.000004 , G loss : 0.000001\n",
      "epoch : 3 , batch : 136 , D loss : 0.000004 , G loss : 0.000001\n",
      "epoch : 3 , batch : 137 , D loss : 0.000020 , G loss : 0.000002\n",
      "epoch : 3 , batch : 138 , D loss : 0.000003 , G loss : 0.000001\n",
      "epoch : 3 , batch : 139 , D loss : 0.000053 , G loss : 0.000002\n",
      "epoch : 3 , batch : 140 , D loss : 0.000007 , G loss : 0.000001\n",
      "epoch : 3 , batch : 141 , D loss : 0.000003 , G loss : 0.000001\n",
      "epoch : 3 , batch : 142 , D loss : 0.000003 , G loss : 0.000001\n",
      "epoch : 4 , batch : 0 , D loss : 0.000005 , G loss : 0.000001\n",
      "epoch : 4 , batch : 1 , D loss : 0.000001 , G loss : 0.000001\n",
      "epoch : 4 , batch : 2 , D loss : 0.000001 , G loss : 0.000001\n",
      "epoch : 4 , batch : 3 , D loss : 0.000003 , G loss : 0.000001\n",
      "epoch : 4 , batch : 4 , D loss : 0.000005 , G loss : 0.000001\n",
      "epoch : 4 , batch : 5 , D loss : 0.000006 , G loss : 0.000001\n",
      "epoch : 4 , batch : 6 , D loss : 0.000003 , G loss : 0.000001\n",
      "epoch : 4 , batch : 7 , D loss : 0.000002 , G loss : 0.000001\n",
      "epoch : 4 , batch : 8 , D loss : 0.000002 , G loss : 0.000001\n",
      "epoch : 4 , batch : 9 , D loss : 0.000002 , G loss : 0.000001\n",
      "epoch : 4 , batch : 10 , D loss : 0.000001 , G loss : 0.000001\n",
      "epoch : 4 , batch : 11 , D loss : 0.000003 , G loss : 0.000001\n",
      "epoch : 4 , batch : 12 , D loss : 0.000003 , G loss : 0.000002\n",
      "epoch : 4 , batch : 13 , D loss : 0.000005 , G loss : 0.000001\n",
      "epoch : 4 , batch : 14 , D loss : 0.000002 , G loss : 0.000001\n",
      "epoch : 4 , batch : 15 , D loss : 0.000002 , G loss : 0.000001\n",
      "epoch : 4 , batch : 16 , D loss : 0.000001 , G loss : 0.000001\n",
      "epoch : 4 , batch : 17 , D loss : 0.000001 , G loss : 0.000001\n",
      "epoch : 4 , batch : 18 , D loss : 0.000023 , G loss : 0.000001\n",
      "epoch : 4 , batch : 19 , D loss : 0.000001 , G loss : 0.000001\n",
      "epoch : 4 , batch : 20 , D loss : 0.000005 , G loss : 0.000001\n",
      "epoch : 4 , batch : 21 , D loss : 0.000007 , G loss : 0.000001\n",
      "epoch : 4 , batch : 22 , D loss : 0.000019 , G loss : 0.000001\n",
      "epoch : 4 , batch : 23 , D loss : 0.000001 , G loss : 0.000001\n",
      "epoch : 4 , batch : 24 , D loss : 0.000010 , G loss : 0.000001\n",
      "epoch : 4 , batch : 25 , D loss : 0.000001 , G loss : 0.000001\n",
      "epoch : 4 , batch : 26 , D loss : 0.000009 , G loss : 0.000002\n",
      "epoch : 4 , batch : 27 , D loss : 0.000002 , G loss : 0.000001\n",
      "epoch : 4 , batch : 28 , D loss : 0.000003 , G loss : 0.000001\n",
      "epoch : 4 , batch : 29 , D loss : 0.000007 , G loss : 0.000001\n",
      "epoch : 4 , batch : 30 , D loss : 0.000003 , G loss : 0.000001\n",
      "epoch : 4 , batch : 31 , D loss : 0.000006 , G loss : 0.000002\n",
      "epoch : 4 , batch : 32 , D loss : 0.000001 , G loss : 0.000001\n",
      "epoch : 4 , batch : 33 , D loss : 0.000004 , G loss : 0.000001\n",
      "epoch : 4 , batch : 34 , D loss : 0.000006 , G loss : 0.000001\n",
      "epoch : 4 , batch : 35 , D loss : 0.000006 , G loss : 0.000001\n",
      "epoch : 4 , batch : 36 , D loss : 0.000008 , G loss : 0.000001\n",
      "epoch : 4 , batch : 37 , D loss : 0.000005 , G loss : 0.000001\n",
      "epoch : 4 , batch : 38 , D loss : 0.000002 , G loss : 0.000002\n",
      "epoch : 4 , batch : 39 , D loss : 0.000001 , G loss : 0.000001\n",
      "epoch : 4 , batch : 40 , D loss : 0.000004 , G loss : 0.000001\n",
      "epoch : 4 , batch : 41 , D loss : 0.000001 , G loss : 0.000001\n",
      "epoch : 4 , batch : 42 , D loss : 0.000017 , G loss : 0.000001\n",
      "epoch : 4 , batch : 43 , D loss : 0.000006 , G loss : 0.000001\n",
      "epoch : 4 , batch : 44 , D loss : 0.000007 , G loss : 0.000001\n",
      "epoch : 4 , batch : 45 , D loss : 0.000005 , G loss : 0.000001\n",
      "epoch : 4 , batch : 46 , D loss : 0.000002 , G loss : 0.000001\n",
      "epoch : 4 , batch : 47 , D loss : 0.000012 , G loss : 0.000001\n",
      "epoch : 4 , batch : 48 , D loss : 0.000006 , G loss : 0.000001\n",
      "epoch : 4 , batch : 49 , D loss : 0.000077 , G loss : 0.000001\n",
      "epoch : 4 , batch : 50 , D loss : 0.000003 , G loss : 0.000001\n",
      "epoch : 4 , batch : 51 , D loss : 0.000003 , G loss : 0.000001\n",
      "epoch : 4 , batch : 52 , D loss : 0.000001 , G loss : 0.000001\n",
      "epoch : 4 , batch : 53 , D loss : 0.000022 , G loss : 0.000001\n",
      "epoch : 4 , batch : 54 , D loss : 0.000005 , G loss : 0.000001\n",
      "epoch : 4 , batch : 55 , D loss : 0.000002 , G loss : 0.000001\n",
      "epoch : 4 , batch : 56 , D loss : 0.000004 , G loss : 0.000001\n",
      "epoch : 4 , batch : 57 , D loss : 0.000001 , G loss : 0.000001\n",
      "epoch : 4 , batch : 58 , D loss : 0.000010 , G loss : 0.000001\n",
      "epoch : 4 , batch : 59 , D loss : 0.000003 , G loss : 0.000001\n",
      "epoch : 4 , batch : 60 , D loss : 0.000002 , G loss : 0.000001\n",
      "epoch : 4 , batch : 61 , D loss : 0.000003 , G loss : 0.000001\n",
      "epoch : 4 , batch : 62 , D loss : 0.000003 , G loss : 0.000001\n",
      "epoch : 4 , batch : 63 , D loss : 0.000002 , G loss : 0.000001\n",
      "epoch : 4 , batch : 64 , D loss : 0.000002 , G loss : 0.000001\n",
      "epoch : 4 , batch : 65 , D loss : 0.000007 , G loss : 0.000001\n",
      "epoch : 4 , batch : 66 , D loss : 0.000033 , G loss : 0.000001\n",
      "epoch : 4 , batch : 67 , D loss : 0.000001 , G loss : 0.000001\n",
      "epoch : 4 , batch : 68 , D loss : 0.000002 , G loss : 0.000001\n",
      "epoch : 4 , batch : 69 , D loss : 0.000002 , G loss : 0.000001\n",
      "epoch : 4 , batch : 70 , D loss : 0.000001 , G loss : 0.000001\n",
      "epoch : 4 , batch : 71 , D loss : 0.000010 , G loss : 0.000001\n",
      "epoch : 4 , batch : 72 , D loss : 0.000008 , G loss : 0.000001\n",
      "epoch : 4 , batch : 73 , D loss : 0.000001 , G loss : 0.000001\n",
      "epoch : 4 , batch : 74 , D loss : 0.000002 , G loss : 0.000001\n",
      "epoch : 4 , batch : 75 , D loss : 0.000002 , G loss : 0.000001\n",
      "epoch : 4 , batch : 76 , D loss : 0.000002 , G loss : 0.000001\n",
      "epoch : 4 , batch : 77 , D loss : 0.000003 , G loss : 0.000002\n",
      "epoch : 4 , batch : 78 , D loss : 0.000006 , G loss : 0.000001\n",
      "epoch : 4 , batch : 79 , D loss : 0.000006 , G loss : 0.000001\n",
      "epoch : 4 , batch : 80 , D loss : 0.000003 , G loss : 0.000001\n",
      "epoch : 4 , batch : 81 , D loss : 0.000002 , G loss : 0.000001\n",
      "epoch : 4 , batch : 82 , D loss : 0.000005 , G loss : 0.000001\n",
      "epoch : 4 , batch : 83 , D loss : 0.000003 , G loss : 0.000001\n",
      "epoch : 4 , batch : 84 , D loss : 0.000001 , G loss : 0.000001\n",
      "epoch : 4 , batch : 85 , D loss : 0.000002 , G loss : 0.000001\n",
      "epoch : 4 , batch : 86 , D loss : 0.000018 , G loss : 0.000001\n",
      "epoch : 4 , batch : 87 , D loss : 0.000041 , G loss : 0.000001\n",
      "epoch : 4 , batch : 88 , D loss : 0.000002 , G loss : 0.000001\n",
      "epoch : 4 , batch : 89 , D loss : 0.000002 , G loss : 0.000001\n",
      "epoch : 4 , batch : 90 , D loss : 0.000007 , G loss : 0.000001\n",
      "epoch : 4 , batch : 91 , D loss : 0.000003 , G loss : 0.000001\n",
      "epoch : 4 , batch : 92 , D loss : 0.000002 , G loss : 0.000001\n",
      "epoch : 4 , batch : 93 , D loss : 0.000001 , G loss : 0.000001\n",
      "epoch : 4 , batch : 94 , D loss : 0.000001 , G loss : 0.000001\n",
      "epoch : 4 , batch : 95 , D loss : 0.000008 , G loss : 0.000001\n",
      "epoch : 4 , batch : 96 , D loss : 0.000002 , G loss : 0.000001\n",
      "epoch : 4 , batch : 97 , D loss : 0.000003 , G loss : 0.000001\n",
      "epoch : 4 , batch : 98 , D loss : 0.000009 , G loss : 0.000001\n",
      "epoch : 4 , batch : 99 , D loss : 0.000002 , G loss : 0.000001\n",
      "epoch : 4 , batch : 100 , D loss : 0.000003 , G loss : 0.000001\n",
      "epoch : 4 , batch : 101 , D loss : 0.000003 , G loss : 0.000001\n",
      "epoch : 4 , batch : 102 , D loss : 0.000002 , G loss : 0.000001\n",
      "epoch : 4 , batch : 103 , D loss : 0.000002 , G loss : 0.000001\n",
      "epoch : 4 , batch : 104 , D loss : 0.000003 , G loss : 0.000001\n"
     ]
    },
    {
     "name": "stdout",
     "output_type": "stream",
     "text": [
      "epoch : 4 , batch : 105 , D loss : 0.000001 , G loss : 0.000001\n",
      "epoch : 4 , batch : 106 , D loss : 0.000018 , G loss : 0.000001\n",
      "epoch : 4 , batch : 107 , D loss : 0.000003 , G loss : 0.000001\n",
      "epoch : 4 , batch : 108 , D loss : 0.000001 , G loss : 0.000001\n",
      "epoch : 4 , batch : 109 , D loss : 0.000004 , G loss : 0.000001\n",
      "epoch : 4 , batch : 110 , D loss : 0.000013 , G loss : 0.000002\n",
      "epoch : 4 , batch : 111 , D loss : 0.000002 , G loss : 0.000001\n",
      "epoch : 4 , batch : 112 , D loss : 0.000001 , G loss : 0.000001\n",
      "epoch : 4 , batch : 113 , D loss : 0.000017 , G loss : 0.000001\n",
      "epoch : 4 , batch : 114 , D loss : 0.000004 , G loss : 0.000001\n",
      "epoch : 4 , batch : 115 , D loss : 0.000004 , G loss : 0.000001\n",
      "epoch : 4 , batch : 116 , D loss : 0.000001 , G loss : 0.000001\n",
      "epoch : 4 , batch : 117 , D loss : 0.000006 , G loss : 0.000001\n",
      "epoch : 4 , batch : 118 , D loss : 0.000002 , G loss : 0.000001\n",
      "epoch : 4 , batch : 119 , D loss : 0.000012 , G loss : 0.000001\n",
      "epoch : 4 , batch : 120 , D loss : 0.000001 , G loss : 0.000001\n",
      "epoch : 4 , batch : 121 , D loss : 0.000001 , G loss : 0.000001\n",
      "epoch : 4 , batch : 122 , D loss : 0.000001 , G loss : 0.000001\n",
      "epoch : 4 , batch : 123 , D loss : 0.000001 , G loss : 0.000001\n",
      "epoch : 4 , batch : 124 , D loss : 0.000002 , G loss : 0.000001\n",
      "epoch : 4 , batch : 125 , D loss : 0.000003 , G loss : 0.000001\n",
      "epoch : 4 , batch : 126 , D loss : 0.000004 , G loss : 0.000001\n",
      "epoch : 4 , batch : 127 , D loss : 0.000001 , G loss : 0.000001\n",
      "epoch : 4 , batch : 128 , D loss : 0.000008 , G loss : 0.000001\n",
      "epoch : 4 , batch : 129 , D loss : 0.000001 , G loss : 0.000001\n",
      "epoch : 4 , batch : 130 , D loss : 0.000001 , G loss : 0.000001\n",
      "epoch : 4 , batch : 131 , D loss : 0.000001 , G loss : 0.000001\n",
      "epoch : 4 , batch : 132 , D loss : 0.000002 , G loss : 0.000001\n",
      "epoch : 4 , batch : 133 , D loss : 0.000006 , G loss : 0.000001\n",
      "epoch : 4 , batch : 134 , D loss : 0.000005 , G loss : 0.000001\n",
      "epoch : 4 , batch : 135 , D loss : 0.000002 , G loss : 0.000001\n",
      "epoch : 4 , batch : 136 , D loss : 0.000002 , G loss : 0.000001\n",
      "epoch : 4 , batch : 137 , D loss : 0.000013 , G loss : 0.000001\n",
      "epoch : 4 , batch : 138 , D loss : 0.000002 , G loss : 0.000001\n",
      "epoch : 4 , batch : 139 , D loss : 0.000030 , G loss : 0.000001\n",
      "epoch : 4 , batch : 140 , D loss : 0.000004 , G loss : 0.000001\n",
      "epoch : 4 , batch : 141 , D loss : 0.000002 , G loss : 0.000001\n",
      "epoch : 4 , batch : 142 , D loss : 0.000001 , G loss : 0.000001\n",
      "epoch : 5 , batch : 0 , D loss : 0.000003 , G loss : 0.000001\n",
      "epoch : 5 , batch : 1 , D loss : 0.000001 , G loss : 0.000001\n",
      "epoch : 5 , batch : 2 , D loss : 0.000001 , G loss : 0.000001\n",
      "epoch : 5 , batch : 3 , D loss : 0.000001 , G loss : 0.000001\n",
      "epoch : 5 , batch : 4 , D loss : 0.000003 , G loss : 0.000001\n",
      "epoch : 5 , batch : 5 , D loss : 0.000004 , G loss : 0.000001\n",
      "epoch : 5 , batch : 6 , D loss : 0.000002 , G loss : 0.000001\n",
      "epoch : 5 , batch : 7 , D loss : 0.000001 , G loss : 0.000001\n",
      "epoch : 5 , batch : 8 , D loss : 0.000001 , G loss : 0.000001\n",
      "epoch : 5 , batch : 9 , D loss : 0.000002 , G loss : 0.000001\n",
      "epoch : 5 , batch : 10 , D loss : 0.000001 , G loss : 0.000001\n",
      "epoch : 5 , batch : 11 , D loss : 0.000002 , G loss : 0.000001\n",
      "epoch : 5 , batch : 12 , D loss : 0.000002 , G loss : 0.000001\n",
      "epoch : 5 , batch : 13 , D loss : 0.000003 , G loss : 0.000001\n",
      "epoch : 5 , batch : 14 , D loss : 0.000001 , G loss : 0.000001\n",
      "epoch : 5 , batch : 15 , D loss : 0.000001 , G loss : 0.000001\n",
      "epoch : 5 , batch : 16 , D loss : 0.000001 , G loss : 0.000001\n",
      "epoch : 5 , batch : 17 , D loss : 0.000001 , G loss : 0.000001\n",
      "epoch : 5 , batch : 18 , D loss : 0.000012 , G loss : 0.000000\n",
      "epoch : 5 , batch : 19 , D loss : 0.000001 , G loss : 0.000001\n",
      "epoch : 5 , batch : 20 , D loss : 0.000003 , G loss : 0.000001\n",
      "epoch : 5 , batch : 21 , D loss : 0.000004 , G loss : 0.000001\n",
      "epoch : 5 , batch : 22 , D loss : 0.000011 , G loss : 0.000001\n",
      "epoch : 5 , batch : 23 , D loss : 0.000001 , G loss : 0.000001\n",
      "epoch : 5 , batch : 24 , D loss : 0.000007 , G loss : 0.000001\n",
      "epoch : 5 , batch : 25 , D loss : 0.000001 , G loss : 0.000001\n",
      "epoch : 5 , batch : 26 , D loss : 0.000005 , G loss : 0.000001\n",
      "epoch : 5 , batch : 27 , D loss : 0.000001 , G loss : 0.000001\n",
      "epoch : 5 , batch : 28 , D loss : 0.000002 , G loss : 0.000000\n",
      "epoch : 5 , batch : 29 , D loss : 0.000004 , G loss : 0.000001\n",
      "epoch : 5 , batch : 30 , D loss : 0.000002 , G loss : 0.000000\n",
      "epoch : 5 , batch : 31 , D loss : 0.000003 , G loss : 0.000001\n",
      "epoch : 5 , batch : 32 , D loss : 0.000001 , G loss : 0.000001\n",
      "epoch : 5 , batch : 33 , D loss : 0.000002 , G loss : 0.000001\n",
      "epoch : 5 , batch : 34 , D loss : 0.000004 , G loss : 0.000001\n",
      "epoch : 5 , batch : 35 , D loss : 0.000004 , G loss : 0.000000\n",
      "epoch : 5 , batch : 36 , D loss : 0.000005 , G loss : 0.000000\n",
      "epoch : 5 , batch : 37 , D loss : 0.000003 , G loss : 0.000000\n",
      "epoch : 5 , batch : 38 , D loss : 0.000001 , G loss : 0.000001\n",
      "epoch : 5 , batch : 39 , D loss : 0.000001 , G loss : 0.000000\n",
      "epoch : 5 , batch : 40 , D loss : 0.000002 , G loss : 0.000001\n",
      "epoch : 5 , batch : 41 , D loss : 0.000001 , G loss : 0.000000\n",
      "epoch : 5 , batch : 42 , D loss : 0.000010 , G loss : 0.000000\n",
      "epoch : 5 , batch : 43 , D loss : 0.000004 , G loss : 0.000000\n",
      "epoch : 5 , batch : 44 , D loss : 0.000005 , G loss : 0.000001\n",
      "epoch : 5 , batch : 45 , D loss : 0.000003 , G loss : 0.000000\n",
      "epoch : 5 , batch : 46 , D loss : 0.000001 , G loss : 0.000001\n",
      "epoch : 5 , batch : 47 , D loss : 0.000008 , G loss : 0.000001\n",
      "epoch : 5 , batch : 48 , D loss : 0.000004 , G loss : 0.000001\n",
      "epoch : 5 , batch : 49 , D loss : 0.000052 , G loss : 0.000001\n",
      "epoch : 5 , batch : 50 , D loss : 0.000002 , G loss : 0.000001\n",
      "epoch : 5 , batch : 51 , D loss : 0.000002 , G loss : 0.000001\n",
      "epoch : 5 , batch : 52 , D loss : 0.000001 , G loss : 0.000000\n",
      "epoch : 5 , batch : 53 , D loss : 0.000014 , G loss : 0.000001\n",
      "epoch : 5 , batch : 54 , D loss : 0.000003 , G loss : 0.000001\n",
      "epoch : 5 , batch : 55 , D loss : 0.000001 , G loss : 0.000001\n",
      "epoch : 5 , batch : 56 , D loss : 0.000003 , G loss : 0.000001\n",
      "epoch : 5 , batch : 57 , D loss : 0.000001 , G loss : 0.000001\n",
      "epoch : 5 , batch : 58 , D loss : 0.000007 , G loss : 0.000001\n",
      "epoch : 5 , batch : 59 , D loss : 0.000002 , G loss : 0.000001\n",
      "epoch : 5 , batch : 60 , D loss : 0.000001 , G loss : 0.000001\n",
      "epoch : 5 , batch : 61 , D loss : 0.000002 , G loss : 0.000001\n",
      "epoch : 5 , batch : 62 , D loss : 0.000002 , G loss : 0.000001\n",
      "epoch : 5 , batch : 63 , D loss : 0.000001 , G loss : 0.000001\n",
      "epoch : 5 , batch : 64 , D loss : 0.000001 , G loss : 0.000001\n",
      "epoch : 5 , batch : 65 , D loss : 0.000004 , G loss : 0.000000\n",
      "epoch : 5 , batch : 66 , D loss : 0.000022 , G loss : 0.000001\n",
      "epoch : 5 , batch : 67 , D loss : 0.000001 , G loss : 0.000000\n",
      "epoch : 5 , batch : 68 , D loss : 0.000001 , G loss : 0.000001\n",
      "epoch : 5 , batch : 69 , D loss : 0.000001 , G loss : 0.000001\n",
      "epoch : 5 , batch : 70 , D loss : 0.000001 , G loss : 0.000001\n",
      "epoch : 5 , batch : 71 , D loss : 0.000006 , G loss : 0.000000\n",
      "epoch : 5 , batch : 72 , D loss : 0.000005 , G loss : 0.000001\n",
      "epoch : 5 , batch : 73 , D loss : 0.000001 , G loss : 0.000000\n",
      "epoch : 5 , batch : 74 , D loss : 0.000001 , G loss : 0.000001\n",
      "epoch : 5 , batch : 75 , D loss : 0.000002 , G loss : 0.000001\n",
      "epoch : 5 , batch : 76 , D loss : 0.000001 , G loss : 0.000001\n",
      "epoch : 5 , batch : 77 , D loss : 0.000002 , G loss : 0.000001\n",
      "epoch : 5 , batch : 78 , D loss : 0.000004 , G loss : 0.000000\n",
      "epoch : 5 , batch : 79 , D loss : 0.000004 , G loss : 0.000001\n",
      "epoch : 5 , batch : 80 , D loss : 0.000002 , G loss : 0.000000\n",
      "epoch : 5 , batch : 81 , D loss : 0.000001 , G loss : 0.000001\n",
      "epoch : 5 , batch : 82 , D loss : 0.000003 , G loss : 0.000001\n",
      "epoch : 5 , batch : 83 , D loss : 0.000002 , G loss : 0.000001\n",
      "epoch : 5 , batch : 84 , D loss : 0.000001 , G loss : 0.000001\n",
      "epoch : 5 , batch : 85 , D loss : 0.000001 , G loss : 0.000001\n",
      "epoch : 5 , batch : 86 , D loss : 0.000011 , G loss : 0.000000\n",
      "epoch : 5 , batch : 87 , D loss : 0.000028 , G loss : 0.000000\n",
      "epoch : 5 , batch : 88 , D loss : 0.000002 , G loss : 0.000001\n",
      "epoch : 5 , batch : 89 , D loss : 0.000001 , G loss : 0.000000\n",
      "epoch : 5 , batch : 90 , D loss : 0.000004 , G loss : 0.000001\n",
      "epoch : 5 , batch : 91 , D loss : 0.000002 , G loss : 0.000000\n",
      "epoch : 5 , batch : 92 , D loss : 0.000001 , G loss : 0.000000\n",
      "epoch : 5 , batch : 93 , D loss : 0.000001 , G loss : 0.000001\n",
      "epoch : 5 , batch : 94 , D loss : 0.000001 , G loss : 0.000001\n",
      "epoch : 5 , batch : 95 , D loss : 0.000005 , G loss : 0.000000\n",
      "epoch : 5 , batch : 96 , D loss : 0.000001 , G loss : 0.000000\n",
      "epoch : 5 , batch : 97 , D loss : 0.000002 , G loss : 0.000000\n",
      "epoch : 5 , batch : 98 , D loss : 0.000006 , G loss : 0.000000\n"
     ]
    },
    {
     "name": "stdout",
     "output_type": "stream",
     "text": [
      "epoch : 5 , batch : 99 , D loss : 0.000002 , G loss : 0.000000\n",
      "epoch : 5 , batch : 100 , D loss : 0.000002 , G loss : 0.000001\n",
      "epoch : 5 , batch : 101 , D loss : 0.000002 , G loss : 0.000001\n",
      "epoch : 5 , batch : 102 , D loss : 0.000001 , G loss : 0.000000\n",
      "epoch : 5 , batch : 103 , D loss : 0.000002 , G loss : 0.000000\n",
      "epoch : 5 , batch : 104 , D loss : 0.000002 , G loss : 0.000001\n",
      "epoch : 5 , batch : 105 , D loss : 0.000001 , G loss : 0.000000\n",
      "epoch : 5 , batch : 106 , D loss : 0.000012 , G loss : 0.000000\n",
      "epoch : 5 , batch : 107 , D loss : 0.000002 , G loss : 0.000001\n",
      "epoch : 5 , batch : 108 , D loss : 0.000001 , G loss : 0.000001\n",
      "epoch : 5 , batch : 109 , D loss : 0.000003 , G loss : 0.000001\n",
      "epoch : 5 , batch : 110 , D loss : 0.000009 , G loss : 0.000001\n",
      "epoch : 5 , batch : 111 , D loss : 0.000001 , G loss : 0.000001\n",
      "epoch : 5 , batch : 112 , D loss : 0.000001 , G loss : 0.000000\n",
      "epoch : 5 , batch : 113 , D loss : 0.000011 , G loss : 0.000001\n",
      "epoch : 5 , batch : 114 , D loss : 0.000003 , G loss : 0.000000\n",
      "epoch : 5 , batch : 115 , D loss : 0.000003 , G loss : 0.000001\n",
      "epoch : 5 , batch : 116 , D loss : 0.000001 , G loss : 0.000000\n",
      "epoch : 5 , batch : 117 , D loss : 0.000004 , G loss : 0.000001\n",
      "epoch : 5 , batch : 118 , D loss : 0.000001 , G loss : 0.000001\n",
      "epoch : 5 , batch : 119 , D loss : 0.000008 , G loss : 0.000001\n",
      "epoch : 5 , batch : 120 , D loss : 0.000001 , G loss : 0.000000\n",
      "epoch : 5 , batch : 121 , D loss : 0.000001 , G loss : 0.000000\n",
      "epoch : 5 , batch : 122 , D loss : 0.000001 , G loss : 0.000000\n",
      "epoch : 5 , batch : 123 , D loss : 0.000001 , G loss : 0.000001\n",
      "epoch : 5 , batch : 124 , D loss : 0.000002 , G loss : 0.000000\n",
      "epoch : 5 , batch : 125 , D loss : 0.000002 , G loss : 0.000001\n",
      "epoch : 5 , batch : 126 , D loss : 0.000002 , G loss : 0.000001\n",
      "epoch : 5 , batch : 127 , D loss : 0.000001 , G loss : 0.000000\n",
      "epoch : 5 , batch : 128 , D loss : 0.000005 , G loss : 0.000001\n",
      "epoch : 5 , batch : 129 , D loss : 0.000001 , G loss : 0.000000\n",
      "epoch : 5 , batch : 130 , D loss : 0.000001 , G loss : 0.000001\n",
      "epoch : 5 , batch : 131 , D loss : 0.000001 , G loss : 0.000001\n",
      "epoch : 5 , batch : 132 , D loss : 0.000001 , G loss : 0.000000\n",
      "epoch : 5 , batch : 133 , D loss : 0.000004 , G loss : 0.000001\n",
      "epoch : 5 , batch : 134 , D loss : 0.000004 , G loss : 0.000001\n",
      "epoch : 5 , batch : 135 , D loss : 0.000002 , G loss : 0.000001\n",
      "epoch : 5 , batch : 136 , D loss : 0.000002 , G loss : 0.000000\n",
      "epoch : 5 , batch : 137 , D loss : 0.000008 , G loss : 0.000001\n",
      "epoch : 5 , batch : 138 , D loss : 0.000001 , G loss : 0.000000\n",
      "epoch : 5 , batch : 139 , D loss : 0.000019 , G loss : 0.000001\n",
      "epoch : 5 , batch : 140 , D loss : 0.000003 , G loss : 0.000000\n",
      "epoch : 5 , batch : 141 , D loss : 0.000001 , G loss : 0.000000\n",
      "epoch : 5 , batch : 142 , D loss : 0.000001 , G loss : 0.000000\n"
     ]
    }
   ],
   "source": [
    "# Train the GAN Network\n",
    "if __name__ == '__main__':\n",
    "    gan1,generator1,discriminator1,D_loss,G_loss=train(5,step_time,feature_size,gan_input_dim,30)"
   ]
  },
  {
   "cell_type": "markdown",
   "metadata": {},
   "source": [
    "## Plot D_loss"
   ]
  },
  {
   "cell_type": "code",
   "execution_count": 13,
   "metadata": {},
   "outputs": [
    {
     "data": {
      "text/plain": [
       "[<matplotlib.lines.Line2D at 0x17bc2f28>]"
      ]
     },
     "execution_count": 13,
     "metadata": {},
     "output_type": "execute_result"
    },
    {
     "data": {
      "image/png": "[encoded data removed]",
      "text/plain": [
       "<Figure size 432x288 with 1 Axes>"
      ]
     },
     "metadata": {
      "needs_background": "light"
     },
     "output_type": "display_data"
    }
   ],
   "source": [
    "D_loss=np.array(D_loss)\n",
    "plt.plot(D_loss, color = 'red')"
   ]
  },
  {
   "cell_type": "markdown",
   "metadata": {},
   "source": [
    "## Plot G_loss"
   ]
  },
  {
   "cell_type": "code",
   "execution_count": 14,
   "metadata": {},
   "outputs": [
    {
     "data": {
      "text/plain": [
       "[<matplotlib.lines.Line2D at 0x17c650f0>]"
      ]
     },
     "execution_count": 14,
     "metadata": {},
     "output_type": "execute_result"
    },
    {
     "data": {
      "image/png": "[encoded data removed]",
      "text/plain": [
       "<Figure size 432x288 with 1 Axes>"
      ]
     },
     "metadata": {
      "needs_background": "light"
     },
     "output_type": "display_data"
    }
   ],
   "source": [
    "G_loss=np.array(G_loss)\n",
    "plt.plot(G_loss, color = 'red')"
   ]
  },
  {
   "cell_type": "markdown",
   "metadata": {},
   "source": [
    "# Import Test Data"
   ]
  },
  {
   "cell_type": "code",
   "execution_count": 16,
   "metadata": {},
   "outputs": [
    {
     "data": {
      "text/plain": [
       "(473, 5, 6)"
      ]
     },
     "execution_count": 16,
     "metadata": {},
     "output_type": "execute_result"
    }
   ],
   "source": [
    "dataset = pd.read_csv('S&P500_test.csv')\n",
    "dataset_test = dataset.iloc[:,1:7].values\n",
    "\n",
    "data_test=[]\n",
    "for i in range(5,477+1):\n",
    "    data_test.append(dataset_test[i-5:i,:])       \n",
    "\n",
    "data_test_scaled = []\n",
    "for w in data_test:\n",
    "    norm_win = sc.fit_transform(w)\n",
    "    data_test_scaled.append(norm_win)\n",
    "data_test_scaled = np.array(data_test_scaled)\n",
    "data_test_scaled.shape"
   ]
  },
  {
   "cell_type": "code",
   "execution_count": 26,
   "metadata": {},
   "outputs": [
    {
     "name": "stdout",
     "output_type": "stream",
     "text": [
      "(472, 5, 6)\n",
      "(472, 1, 6)\n"
     ]
    }
   ],
   "source": [
    "x_test = data_test_scaled[0:472,:,:]\n",
    "y_test = data_test_scaled[1:473,4,:]\n",
    "y_test=np.expand_dims(y_test, axis=1)\n",
    "print(x_test.shape)\n",
    "print(y_test.shape)"
   ]
  },
  {
   "cell_type": "code",
   "execution_count": 17,
   "metadata": {},
   "outputs": [
    {
     "data": {
      "text/plain": [
       "473"
      ]
     },
     "execution_count": 17,
     "metadata": {},
     "output_type": "execute_result"
    }
   ],
   "source": [
    "len(data_test)"
   ]
  },
  {
   "cell_type": "markdown",
   "metadata": {},
   "source": [
    "# Testing our GAN"
   ]
  },
  {
   "cell_type": "code",
   "execution_count": 18,
   "metadata": {},
   "outputs": [],
   "source": [
    "predicted = generator1.predict(x_test)"
   ]
  },
  {
   "cell_type": "markdown",
   "metadata": {},
   "source": [
    "# Inverse Transform the Results"
   ]
  },
  {
   "cell_type": "code",
   "execution_count": 19,
   "metadata": {},
   "outputs": [
    {
     "data": {
      "text/plain": [
       "(472, 1, 6)"
      ]
     },
     "execution_count": 19,
     "metadata": {},
     "output_type": "execute_result"
    }
   ],
   "source": [
    "predicted.shape"
   ]
  },
  {
   "cell_type": "code",
   "execution_count": 20,
   "metadata": {},
   "outputs": [],
   "source": [
    "X_inverse = []\n",
    "inverse_y_test=[]\n",
    "inverse_predicted=[]\n",
    "i=0\n",
    "for w in data_test:\n",
    "    if i>471:\n",
    "        break\n",
    "    sc.fit(w)\n",
    "    inverse_y_test.append(sc.inverse_transform(y_test[i,:,:]))\n",
    "    inverse_predicted.append(sc.inverse_transform(predicted[i,:,:]))\n",
    "    i+=1\n",
    "inverse_y_test=np.array(inverse_y_test)\n",
    "inverse_predicted=np.array(inverse_predicted)"
   ]
  },
  {
   "cell_type": "markdown",
   "metadata": {},
   "source": [
    "# Plot the Results "
   ]
  },
  {
   "cell_type": "code",
   "execution_count": 21,
   "metadata": {},
   "outputs": [
    {
     "data": {
      "text/plain": [
       "[<matplotlib.lines.Line2D at 0xfee9240>]"
      ]
     },
     "execution_count": 21,
     "metadata": {},
     "output_type": "execute_result"
    },
    {
     "data": {
      "image/png": "[encoded data removed]",
      "text/plain": [
       "<Figure size 432x288 with 1 Axes>"
      ]
     },
     "metadata": {
      "needs_background": "light"
     },
     "output_type": "display_data"
    }
   ],
   "source": [
    "plt.plot(inverse_y_test[:,0,3],color = 'red')\n",
    "plt.plot(inverse_predicted[:,0,3],color = 'black')"
   ]
  },
  {
   "cell_type": "markdown",
   "metadata": {},
   "source": [
    "# Indicators"
   ]
  },
  {
   "cell_type": "markdown",
   "metadata": {},
   "source": [
    "### MAE"
   ]
  },
  {
   "cell_type": "code",
   "execution_count": 22,
   "metadata": {},
   "outputs": [
    {
     "data": {
      "text/plain": [
       "19.25587312118809"
      ]
     },
     "execution_count": 22,
     "metadata": {},
     "output_type": "execute_result"
    }
   ],
   "source": [
    "N = 471\n",
    "a = abs(inverse_y_test[:,0,3]-inverse_predicted[:,0,3]) #close s&p500\n",
    "MAE = a[0]\n",
    "for i in range(1,471):\n",
    "    MAE = a[i] + MAE\n",
    "MAE = MAE/N\n",
    "MAE  "
   ]
  },
  {
   "cell_type": "markdown",
   "metadata": {},
   "source": [
    "### RMSE"
   ]
  },
  {
   "cell_type": "code",
   "execution_count": 23,
   "metadata": {},
   "outputs": [
    {
     "data": {
      "text/plain": [
       "25.87764976862301"
      ]
     },
     "execution_count": 23,
     "metadata": {},
     "output_type": "execute_result"
    }
   ],
   "source": [
    "RMSE = a[0]**2\n",
    "for i in range(1,471):\n",
    "    RMSE = a[i]**2 + RMSE\n",
    "RMSE = RMSE/N\n",
    "math.sqrt(RMSE)"
   ]
  },
  {
   "cell_type": "markdown",
   "metadata": {},
   "source": [
    "### MAPE"
   ]
  },
  {
   "cell_type": "code",
   "execution_count": 24,
   "metadata": {},
   "outputs": [
    {
     "data": {
      "text/plain": [
       "0.007166202060093379"
      ]
     },
     "execution_count": 24,
     "metadata": {},
     "output_type": "execute_result"
    }
   ],
   "source": [
    "MAPE = a[0]/inverse_y_test[:,0,3][0]\n",
    "for i in range(0,471):\n",
    "    MAPE = MAPE + a[i]/inverse_y_test[:,0,3][i]\n",
    "MAPE = MAPE/N \n",
    "MAPE"
   ]
  },
  {
   "cell_type": "markdown",
   "metadata": {},
   "source": [
    "### AR"
   ]
  },
  {
   "cell_type": "code",
   "execution_count": 25,
   "metadata": {},
   "outputs": [
    {
     "data": {
      "text/plain": [
       "-0.06644877265644608"
      ]
     },
     "execution_count": 25,
     "metadata": {},
     "output_type": "execute_result"
    }
   ],
   "source": [
    "for i in range(1,470):\n",
    "    if inverse_predicted[:,0,3][i+1] > inverse_predicted[:,0,3][i]:\n",
    "        AR = inverse_y_test[:,0,3][1]-inverse_y_test[:,0,3][0]\n",
    "        AR = AR + (inverse_y_test[:,0,3][i+1]-inverse_y_test[:,0,3][i])\n",
    "        AR = AR/(N-1)\n",
    "AR"
   ]
  }
 ],
 "metadata": {
  "kernelspec": {
   "display_name": "Python 3",
   "language": "python",
   "name": "python3"
  },
  "language_info": {
   "codemirror_mode": {
    "name": "ipython",
    "version": 3
   },
   "file_extension": ".py",
   "mimetype": "text/x-python",
   "name": "python",
   "nbconvert_exporter": "python",
   "pygments_lexer": "ipython3",
   "version": "3.7.3"
  }
 },
 "nbformat": 4,
 "nbformat_minor": 2
}
